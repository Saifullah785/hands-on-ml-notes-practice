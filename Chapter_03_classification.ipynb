{
  "nbformat": 4,
  "nbformat_minor": 0,
  "metadata": {
    "colab": {
      "provenance": [],
      "authorship_tag": "ABX9TyOmWzDu6DEtA2ZyM5fv/6WK",
      "include_colab_link": true
    },
    "kernelspec": {
      "name": "python3",
      "display_name": "Python 3"
    },
    "language_info": {
      "name": "python"
    }
  },
  "cells": [
    {
      "cell_type": "markdown",
      "metadata": {
        "id": "view-in-github",
        "colab_type": "text"
      },
      "source": [
        "<a href=\"https://colab.research.google.com/github/Saifullah785/hands-on-ml-notes-practice/blob/main/Chapter_03_classification.ipynb\" target=\"_parent\"><img src=\"https://colab.research.google.com/assets/colab-badge.svg\" alt=\"Open In Colab\"/></a>"
      ]
    },
    {
      "cell_type": "code",
      "execution_count": 5,
      "metadata": {
        "id": "NU3wqY6_xBhC"
      },
      "outputs": [],
      "source": [
        "# Import the sys module\n",
        "import sys\n",
        "# Assert that the Python version is 3.7 or higher\n",
        "assert sys.version_info >= (3, 7)"
      ]
    },
    {
      "cell_type": "code",
      "source": [
        "# Import the version class from the packaging module\n",
        "from packaging import version\n",
        "\n",
        "# Import the sklearn library\n",
        "import sklearn\n",
        "\n",
        "# Assert that the scikit-learn version is 1.0.0 or higher\n",
        "assert version.parse(sklearn.__version__) >= version.parse(\"1.0.0\")"
      ],
      "metadata": {
        "id": "YtWkB0ClCEY9"
      },
      "execution_count": 6,
      "outputs": []
    },
    {
      "cell_type": "code",
      "source": [
        "# Import the matplotlib.pyplot module for plotting\n",
        "import matplotlib.pyplot as plt\n",
        "\n",
        "# Set default font size for plots\n",
        "plt.rc('font', size=14)\n",
        "# Set default label and title sizes for axes\n",
        "plt.rc('axes', labelsize=14, titlesize=14)\n",
        "# Set default font size for the legend\n",
        "plt.rc('legend', fontsize=14)\n",
        "# Set default label size for x-axis ticks\n",
        "plt.rc('xtick', labelsize=10)\n",
        "# Set default label size for y-axis ticks\n",
        "plt.rc('ytick', labelsize=10)"
      ],
      "metadata": {
        "id": "_xXwLrG7CNrZ"
      },
      "execution_count": 7,
      "outputs": []
    },
    {
      "cell_type": "markdown",
      "source": [
        "# **Mnist**"
      ],
      "metadata": {
        "id": "ffWppIlzCrXA"
      }
    },
    {
      "cell_type": "code",
      "source": [
        "# Import the fetch_openml function from sklearn.datasets\n",
        "from sklearn.datasets import fetch_openml\n",
        "\n",
        "# Fetch the MNIST dataset and store it in the 'mnist' variable\n",
        "# as_frame=False means the data will be returned as NumPy arrays\n",
        "mnist = fetch_openml('mnist_784', as_frame=False)\n",
        "# Display the contents of the 'mnist' object\n",
        "mnist"
      ],
      "metadata": {
        "colab": {
          "base_uri": "https://localhost:8080/"
        },
        "id": "dWnm6rhKCoig",
        "outputId": "8d728d37-60c5-4b98-83c2-fc5990e4b980"
      },
      "execution_count": 9,
      "outputs": [
        {
          "output_type": "execute_result",
          "data": {
            "text/plain": [
              "{'data': array([[0, 0, 0, ..., 0, 0, 0],\n",
              "        [0, 0, 0, ..., 0, 0, 0],\n",
              "        [0, 0, 0, ..., 0, 0, 0],\n",
              "        ...,\n",
              "        [0, 0, 0, ..., 0, 0, 0],\n",
              "        [0, 0, 0, ..., 0, 0, 0],\n",
              "        [0, 0, 0, ..., 0, 0, 0]]),\n",
              " 'target': array(['5', '0', '4', ..., '4', '5', '6'], dtype=object),\n",
              " 'frame': None,\n",
              " 'categories': {'class': ['0', '1', '2', '3', '4', '5', '6', '7', '8', '9']},\n",
              " 'feature_names': ['pixel1',\n",
              "  'pixel2',\n",
              "  'pixel3',\n",
              "  'pixel4',\n",
              "  'pixel5',\n",
              "  'pixel6',\n",
              "  'pixel7',\n",
              "  'pixel8',\n",
              "  'pixel9',\n",
              "  'pixel10',\n",
              "  'pixel11',\n",
              "  'pixel12',\n",
              "  'pixel13',\n",
              "  'pixel14',\n",
              "  'pixel15',\n",
              "  'pixel16',\n",
              "  'pixel17',\n",
              "  'pixel18',\n",
              "  'pixel19',\n",
              "  'pixel20',\n",
              "  'pixel21',\n",
              "  'pixel22',\n",
              "  'pixel23',\n",
              "  'pixel24',\n",
              "  'pixel25',\n",
              "  'pixel26',\n",
              "  'pixel27',\n",
              "  'pixel28',\n",
              "  'pixel29',\n",
              "  'pixel30',\n",
              "  'pixel31',\n",
              "  'pixel32',\n",
              "  'pixel33',\n",
              "  'pixel34',\n",
              "  'pixel35',\n",
              "  'pixel36',\n",
              "  'pixel37',\n",
              "  'pixel38',\n",
              "  'pixel39',\n",
              "  'pixel40',\n",
              "  'pixel41',\n",
              "  'pixel42',\n",
              "  'pixel43',\n",
              "  'pixel44',\n",
              "  'pixel45',\n",
              "  'pixel46',\n",
              "  'pixel47',\n",
              "  'pixel48',\n",
              "  'pixel49',\n",
              "  'pixel50',\n",
              "  'pixel51',\n",
              "  'pixel52',\n",
              "  'pixel53',\n",
              "  'pixel54',\n",
              "  'pixel55',\n",
              "  'pixel56',\n",
              "  'pixel57',\n",
              "  'pixel58',\n",
              "  'pixel59',\n",
              "  'pixel60',\n",
              "  'pixel61',\n",
              "  'pixel62',\n",
              "  'pixel63',\n",
              "  'pixel64',\n",
              "  'pixel65',\n",
              "  'pixel66',\n",
              "  'pixel67',\n",
              "  'pixel68',\n",
              "  'pixel69',\n",
              "  'pixel70',\n",
              "  'pixel71',\n",
              "  'pixel72',\n",
              "  'pixel73',\n",
              "  'pixel74',\n",
              "  'pixel75',\n",
              "  'pixel76',\n",
              "  'pixel77',\n",
              "  'pixel78',\n",
              "  'pixel79',\n",
              "  'pixel80',\n",
              "  'pixel81',\n",
              "  'pixel82',\n",
              "  'pixel83',\n",
              "  'pixel84',\n",
              "  'pixel85',\n",
              "  'pixel86',\n",
              "  'pixel87',\n",
              "  'pixel88',\n",
              "  'pixel89',\n",
              "  'pixel90',\n",
              "  'pixel91',\n",
              "  'pixel92',\n",
              "  'pixel93',\n",
              "  'pixel94',\n",
              "  'pixel95',\n",
              "  'pixel96',\n",
              "  'pixel97',\n",
              "  'pixel98',\n",
              "  'pixel99',\n",
              "  'pixel100',\n",
              "  'pixel101',\n",
              "  'pixel102',\n",
              "  'pixel103',\n",
              "  'pixel104',\n",
              "  'pixel105',\n",
              "  'pixel106',\n",
              "  'pixel107',\n",
              "  'pixel108',\n",
              "  'pixel109',\n",
              "  'pixel110',\n",
              "  'pixel111',\n",
              "  'pixel112',\n",
              "  'pixel113',\n",
              "  'pixel114',\n",
              "  'pixel115',\n",
              "  'pixel116',\n",
              "  'pixel117',\n",
              "  'pixel118',\n",
              "  'pixel119',\n",
              "  'pixel120',\n",
              "  'pixel121',\n",
              "  'pixel122',\n",
              "  'pixel123',\n",
              "  'pixel124',\n",
              "  'pixel125',\n",
              "  'pixel126',\n",
              "  'pixel127',\n",
              "  'pixel128',\n",
              "  'pixel129',\n",
              "  'pixel130',\n",
              "  'pixel131',\n",
              "  'pixel132',\n",
              "  'pixel133',\n",
              "  'pixel134',\n",
              "  'pixel135',\n",
              "  'pixel136',\n",
              "  'pixel137',\n",
              "  'pixel138',\n",
              "  'pixel139',\n",
              "  'pixel140',\n",
              "  'pixel141',\n",
              "  'pixel142',\n",
              "  'pixel143',\n",
              "  'pixel144',\n",
              "  'pixel145',\n",
              "  'pixel146',\n",
              "  'pixel147',\n",
              "  'pixel148',\n",
              "  'pixel149',\n",
              "  'pixel150',\n",
              "  'pixel151',\n",
              "  'pixel152',\n",
              "  'pixel153',\n",
              "  'pixel154',\n",
              "  'pixel155',\n",
              "  'pixel156',\n",
              "  'pixel157',\n",
              "  'pixel158',\n",
              "  'pixel159',\n",
              "  'pixel160',\n",
              "  'pixel161',\n",
              "  'pixel162',\n",
              "  'pixel163',\n",
              "  'pixel164',\n",
              "  'pixel165',\n",
              "  'pixel166',\n",
              "  'pixel167',\n",
              "  'pixel168',\n",
              "  'pixel169',\n",
              "  'pixel170',\n",
              "  'pixel171',\n",
              "  'pixel172',\n",
              "  'pixel173',\n",
              "  'pixel174',\n",
              "  'pixel175',\n",
              "  'pixel176',\n",
              "  'pixel177',\n",
              "  'pixel178',\n",
              "  'pixel179',\n",
              "  'pixel180',\n",
              "  'pixel181',\n",
              "  'pixel182',\n",
              "  'pixel183',\n",
              "  'pixel184',\n",
              "  'pixel185',\n",
              "  'pixel186',\n",
              "  'pixel187',\n",
              "  'pixel188',\n",
              "  'pixel189',\n",
              "  'pixel190',\n",
              "  'pixel191',\n",
              "  'pixel192',\n",
              "  'pixel193',\n",
              "  'pixel194',\n",
              "  'pixel195',\n",
              "  'pixel196',\n",
              "  'pixel197',\n",
              "  'pixel198',\n",
              "  'pixel199',\n",
              "  'pixel200',\n",
              "  'pixel201',\n",
              "  'pixel202',\n",
              "  'pixel203',\n",
              "  'pixel204',\n",
              "  'pixel205',\n",
              "  'pixel206',\n",
              "  'pixel207',\n",
              "  'pixel208',\n",
              "  'pixel209',\n",
              "  'pixel210',\n",
              "  'pixel211',\n",
              "  'pixel212',\n",
              "  'pixel213',\n",
              "  'pixel214',\n",
              "  'pixel215',\n",
              "  'pixel216',\n",
              "  'pixel217',\n",
              "  'pixel218',\n",
              "  'pixel219',\n",
              "  'pixel220',\n",
              "  'pixel221',\n",
              "  'pixel222',\n",
              "  'pixel223',\n",
              "  'pixel224',\n",
              "  'pixel225',\n",
              "  'pixel226',\n",
              "  'pixel227',\n",
              "  'pixel228',\n",
              "  'pixel229',\n",
              "  'pixel230',\n",
              "  'pixel231',\n",
              "  'pixel232',\n",
              "  'pixel233',\n",
              "  'pixel234',\n",
              "  'pixel235',\n",
              "  'pixel236',\n",
              "  'pixel237',\n",
              "  'pixel238',\n",
              "  'pixel239',\n",
              "  'pixel240',\n",
              "  'pixel241',\n",
              "  'pixel242',\n",
              "  'pixel243',\n",
              "  'pixel244',\n",
              "  'pixel245',\n",
              "  'pixel246',\n",
              "  'pixel247',\n",
              "  'pixel248',\n",
              "  'pixel249',\n",
              "  'pixel250',\n",
              "  'pixel251',\n",
              "  'pixel252',\n",
              "  'pixel253',\n",
              "  'pixel254',\n",
              "  'pixel255',\n",
              "  'pixel256',\n",
              "  'pixel257',\n",
              "  'pixel258',\n",
              "  'pixel259',\n",
              "  'pixel260',\n",
              "  'pixel261',\n",
              "  'pixel262',\n",
              "  'pixel263',\n",
              "  'pixel264',\n",
              "  'pixel265',\n",
              "  'pixel266',\n",
              "  'pixel267',\n",
              "  'pixel268',\n",
              "  'pixel269',\n",
              "  'pixel270',\n",
              "  'pixel271',\n",
              "  'pixel272',\n",
              "  'pixel273',\n",
              "  'pixel274',\n",
              "  'pixel275',\n",
              "  'pixel276',\n",
              "  'pixel277',\n",
              "  'pixel278',\n",
              "  'pixel279',\n",
              "  'pixel280',\n",
              "  'pixel281',\n",
              "  'pixel282',\n",
              "  'pixel283',\n",
              "  'pixel284',\n",
              "  'pixel285',\n",
              "  'pixel286',\n",
              "  'pixel287',\n",
              "  'pixel288',\n",
              "  'pixel289',\n",
              "  'pixel290',\n",
              "  'pixel291',\n",
              "  'pixel292',\n",
              "  'pixel293',\n",
              "  'pixel294',\n",
              "  'pixel295',\n",
              "  'pixel296',\n",
              "  'pixel297',\n",
              "  'pixel298',\n",
              "  'pixel299',\n",
              "  'pixel300',\n",
              "  'pixel301',\n",
              "  'pixel302',\n",
              "  'pixel303',\n",
              "  'pixel304',\n",
              "  'pixel305',\n",
              "  'pixel306',\n",
              "  'pixel307',\n",
              "  'pixel308',\n",
              "  'pixel309',\n",
              "  'pixel310',\n",
              "  'pixel311',\n",
              "  'pixel312',\n",
              "  'pixel313',\n",
              "  'pixel314',\n",
              "  'pixel315',\n",
              "  'pixel316',\n",
              "  'pixel317',\n",
              "  'pixel318',\n",
              "  'pixel319',\n",
              "  'pixel320',\n",
              "  'pixel321',\n",
              "  'pixel322',\n",
              "  'pixel323',\n",
              "  'pixel324',\n",
              "  'pixel325',\n",
              "  'pixel326',\n",
              "  'pixel327',\n",
              "  'pixel328',\n",
              "  'pixel329',\n",
              "  'pixel330',\n",
              "  'pixel331',\n",
              "  'pixel332',\n",
              "  'pixel333',\n",
              "  'pixel334',\n",
              "  'pixel335',\n",
              "  'pixel336',\n",
              "  'pixel337',\n",
              "  'pixel338',\n",
              "  'pixel339',\n",
              "  'pixel340',\n",
              "  'pixel341',\n",
              "  'pixel342',\n",
              "  'pixel343',\n",
              "  'pixel344',\n",
              "  'pixel345',\n",
              "  'pixel346',\n",
              "  'pixel347',\n",
              "  'pixel348',\n",
              "  'pixel349',\n",
              "  'pixel350',\n",
              "  'pixel351',\n",
              "  'pixel352',\n",
              "  'pixel353',\n",
              "  'pixel354',\n",
              "  'pixel355',\n",
              "  'pixel356',\n",
              "  'pixel357',\n",
              "  'pixel358',\n",
              "  'pixel359',\n",
              "  'pixel360',\n",
              "  'pixel361',\n",
              "  'pixel362',\n",
              "  'pixel363',\n",
              "  'pixel364',\n",
              "  'pixel365',\n",
              "  'pixel366',\n",
              "  'pixel367',\n",
              "  'pixel368',\n",
              "  'pixel369',\n",
              "  'pixel370',\n",
              "  'pixel371',\n",
              "  'pixel372',\n",
              "  'pixel373',\n",
              "  'pixel374',\n",
              "  'pixel375',\n",
              "  'pixel376',\n",
              "  'pixel377',\n",
              "  'pixel378',\n",
              "  'pixel379',\n",
              "  'pixel380',\n",
              "  'pixel381',\n",
              "  'pixel382',\n",
              "  'pixel383',\n",
              "  'pixel384',\n",
              "  'pixel385',\n",
              "  'pixel386',\n",
              "  'pixel387',\n",
              "  'pixel388',\n",
              "  'pixel389',\n",
              "  'pixel390',\n",
              "  'pixel391',\n",
              "  'pixel392',\n",
              "  'pixel393',\n",
              "  'pixel394',\n",
              "  'pixel395',\n",
              "  'pixel396',\n",
              "  'pixel397',\n",
              "  'pixel398',\n",
              "  'pixel399',\n",
              "  'pixel400',\n",
              "  'pixel401',\n",
              "  'pixel402',\n",
              "  'pixel403',\n",
              "  'pixel404',\n",
              "  'pixel405',\n",
              "  'pixel406',\n",
              "  'pixel407',\n",
              "  'pixel408',\n",
              "  'pixel409',\n",
              "  'pixel410',\n",
              "  'pixel411',\n",
              "  'pixel412',\n",
              "  'pixel413',\n",
              "  'pixel414',\n",
              "  'pixel415',\n",
              "  'pixel416',\n",
              "  'pixel417',\n",
              "  'pixel418',\n",
              "  'pixel419',\n",
              "  'pixel420',\n",
              "  'pixel421',\n",
              "  'pixel422',\n",
              "  'pixel423',\n",
              "  'pixel424',\n",
              "  'pixel425',\n",
              "  'pixel426',\n",
              "  'pixel427',\n",
              "  'pixel428',\n",
              "  'pixel429',\n",
              "  'pixel430',\n",
              "  'pixel431',\n",
              "  'pixel432',\n",
              "  'pixel433',\n",
              "  'pixel434',\n",
              "  'pixel435',\n",
              "  'pixel436',\n",
              "  'pixel437',\n",
              "  'pixel438',\n",
              "  'pixel439',\n",
              "  'pixel440',\n",
              "  'pixel441',\n",
              "  'pixel442',\n",
              "  'pixel443',\n",
              "  'pixel444',\n",
              "  'pixel445',\n",
              "  'pixel446',\n",
              "  'pixel447',\n",
              "  'pixel448',\n",
              "  'pixel449',\n",
              "  'pixel450',\n",
              "  'pixel451',\n",
              "  'pixel452',\n",
              "  'pixel453',\n",
              "  'pixel454',\n",
              "  'pixel455',\n",
              "  'pixel456',\n",
              "  'pixel457',\n",
              "  'pixel458',\n",
              "  'pixel459',\n",
              "  'pixel460',\n",
              "  'pixel461',\n",
              "  'pixel462',\n",
              "  'pixel463',\n",
              "  'pixel464',\n",
              "  'pixel465',\n",
              "  'pixel466',\n",
              "  'pixel467',\n",
              "  'pixel468',\n",
              "  'pixel469',\n",
              "  'pixel470',\n",
              "  'pixel471',\n",
              "  'pixel472',\n",
              "  'pixel473',\n",
              "  'pixel474',\n",
              "  'pixel475',\n",
              "  'pixel476',\n",
              "  'pixel477',\n",
              "  'pixel478',\n",
              "  'pixel479',\n",
              "  'pixel480',\n",
              "  'pixel481',\n",
              "  'pixel482',\n",
              "  'pixel483',\n",
              "  'pixel484',\n",
              "  'pixel485',\n",
              "  'pixel486',\n",
              "  'pixel487',\n",
              "  'pixel488',\n",
              "  'pixel489',\n",
              "  'pixel490',\n",
              "  'pixel491',\n",
              "  'pixel492',\n",
              "  'pixel493',\n",
              "  'pixel494',\n",
              "  'pixel495',\n",
              "  'pixel496',\n",
              "  'pixel497',\n",
              "  'pixel498',\n",
              "  'pixel499',\n",
              "  'pixel500',\n",
              "  'pixel501',\n",
              "  'pixel502',\n",
              "  'pixel503',\n",
              "  'pixel504',\n",
              "  'pixel505',\n",
              "  'pixel506',\n",
              "  'pixel507',\n",
              "  'pixel508',\n",
              "  'pixel509',\n",
              "  'pixel510',\n",
              "  'pixel511',\n",
              "  'pixel512',\n",
              "  'pixel513',\n",
              "  'pixel514',\n",
              "  'pixel515',\n",
              "  'pixel516',\n",
              "  'pixel517',\n",
              "  'pixel518',\n",
              "  'pixel519',\n",
              "  'pixel520',\n",
              "  'pixel521',\n",
              "  'pixel522',\n",
              "  'pixel523',\n",
              "  'pixel524',\n",
              "  'pixel525',\n",
              "  'pixel526',\n",
              "  'pixel527',\n",
              "  'pixel528',\n",
              "  'pixel529',\n",
              "  'pixel530',\n",
              "  'pixel531',\n",
              "  'pixel532',\n",
              "  'pixel533',\n",
              "  'pixel534',\n",
              "  'pixel535',\n",
              "  'pixel536',\n",
              "  'pixel537',\n",
              "  'pixel538',\n",
              "  'pixel539',\n",
              "  'pixel540',\n",
              "  'pixel541',\n",
              "  'pixel542',\n",
              "  'pixel543',\n",
              "  'pixel544',\n",
              "  'pixel545',\n",
              "  'pixel546',\n",
              "  'pixel547',\n",
              "  'pixel548',\n",
              "  'pixel549',\n",
              "  'pixel550',\n",
              "  'pixel551',\n",
              "  'pixel552',\n",
              "  'pixel553',\n",
              "  'pixel554',\n",
              "  'pixel555',\n",
              "  'pixel556',\n",
              "  'pixel557',\n",
              "  'pixel558',\n",
              "  'pixel559',\n",
              "  'pixel560',\n",
              "  'pixel561',\n",
              "  'pixel562',\n",
              "  'pixel563',\n",
              "  'pixel564',\n",
              "  'pixel565',\n",
              "  'pixel566',\n",
              "  'pixel567',\n",
              "  'pixel568',\n",
              "  'pixel569',\n",
              "  'pixel570',\n",
              "  'pixel571',\n",
              "  'pixel572',\n",
              "  'pixel573',\n",
              "  'pixel574',\n",
              "  'pixel575',\n",
              "  'pixel576',\n",
              "  'pixel577',\n",
              "  'pixel578',\n",
              "  'pixel579',\n",
              "  'pixel580',\n",
              "  'pixel581',\n",
              "  'pixel582',\n",
              "  'pixel583',\n",
              "  'pixel584',\n",
              "  'pixel585',\n",
              "  'pixel586',\n",
              "  'pixel587',\n",
              "  'pixel588',\n",
              "  'pixel589',\n",
              "  'pixel590',\n",
              "  'pixel591',\n",
              "  'pixel592',\n",
              "  'pixel593',\n",
              "  'pixel594',\n",
              "  'pixel595',\n",
              "  'pixel596',\n",
              "  'pixel597',\n",
              "  'pixel598',\n",
              "  'pixel599',\n",
              "  'pixel600',\n",
              "  'pixel601',\n",
              "  'pixel602',\n",
              "  'pixel603',\n",
              "  'pixel604',\n",
              "  'pixel605',\n",
              "  'pixel606',\n",
              "  'pixel607',\n",
              "  'pixel608',\n",
              "  'pixel609',\n",
              "  'pixel610',\n",
              "  'pixel611',\n",
              "  'pixel612',\n",
              "  'pixel613',\n",
              "  'pixel614',\n",
              "  'pixel615',\n",
              "  'pixel616',\n",
              "  'pixel617',\n",
              "  'pixel618',\n",
              "  'pixel619',\n",
              "  'pixel620',\n",
              "  'pixel621',\n",
              "  'pixel622',\n",
              "  'pixel623',\n",
              "  'pixel624',\n",
              "  'pixel625',\n",
              "  'pixel626',\n",
              "  'pixel627',\n",
              "  'pixel628',\n",
              "  'pixel629',\n",
              "  'pixel630',\n",
              "  'pixel631',\n",
              "  'pixel632',\n",
              "  'pixel633',\n",
              "  'pixel634',\n",
              "  'pixel635',\n",
              "  'pixel636',\n",
              "  'pixel637',\n",
              "  'pixel638',\n",
              "  'pixel639',\n",
              "  'pixel640',\n",
              "  'pixel641',\n",
              "  'pixel642',\n",
              "  'pixel643',\n",
              "  'pixel644',\n",
              "  'pixel645',\n",
              "  'pixel646',\n",
              "  'pixel647',\n",
              "  'pixel648',\n",
              "  'pixel649',\n",
              "  'pixel650',\n",
              "  'pixel651',\n",
              "  'pixel652',\n",
              "  'pixel653',\n",
              "  'pixel654',\n",
              "  'pixel655',\n",
              "  'pixel656',\n",
              "  'pixel657',\n",
              "  'pixel658',\n",
              "  'pixel659',\n",
              "  'pixel660',\n",
              "  'pixel661',\n",
              "  'pixel662',\n",
              "  'pixel663',\n",
              "  'pixel664',\n",
              "  'pixel665',\n",
              "  'pixel666',\n",
              "  'pixel667',\n",
              "  'pixel668',\n",
              "  'pixel669',\n",
              "  'pixel670',\n",
              "  'pixel671',\n",
              "  'pixel672',\n",
              "  'pixel673',\n",
              "  'pixel674',\n",
              "  'pixel675',\n",
              "  'pixel676',\n",
              "  'pixel677',\n",
              "  'pixel678',\n",
              "  'pixel679',\n",
              "  'pixel680',\n",
              "  'pixel681',\n",
              "  'pixel682',\n",
              "  'pixel683',\n",
              "  'pixel684',\n",
              "  'pixel685',\n",
              "  'pixel686',\n",
              "  'pixel687',\n",
              "  'pixel688',\n",
              "  'pixel689',\n",
              "  'pixel690',\n",
              "  'pixel691',\n",
              "  'pixel692',\n",
              "  'pixel693',\n",
              "  'pixel694',\n",
              "  'pixel695',\n",
              "  'pixel696',\n",
              "  'pixel697',\n",
              "  'pixel698',\n",
              "  'pixel699',\n",
              "  'pixel700',\n",
              "  'pixel701',\n",
              "  'pixel702',\n",
              "  'pixel703',\n",
              "  'pixel704',\n",
              "  'pixel705',\n",
              "  'pixel706',\n",
              "  'pixel707',\n",
              "  'pixel708',\n",
              "  'pixel709',\n",
              "  'pixel710',\n",
              "  'pixel711',\n",
              "  'pixel712',\n",
              "  'pixel713',\n",
              "  'pixel714',\n",
              "  'pixel715',\n",
              "  'pixel716',\n",
              "  'pixel717',\n",
              "  'pixel718',\n",
              "  'pixel719',\n",
              "  'pixel720',\n",
              "  'pixel721',\n",
              "  'pixel722',\n",
              "  'pixel723',\n",
              "  'pixel724',\n",
              "  'pixel725',\n",
              "  'pixel726',\n",
              "  'pixel727',\n",
              "  'pixel728',\n",
              "  'pixel729',\n",
              "  'pixel730',\n",
              "  'pixel731',\n",
              "  'pixel732',\n",
              "  'pixel733',\n",
              "  'pixel734',\n",
              "  'pixel735',\n",
              "  'pixel736',\n",
              "  'pixel737',\n",
              "  'pixel738',\n",
              "  'pixel739',\n",
              "  'pixel740',\n",
              "  'pixel741',\n",
              "  'pixel742',\n",
              "  'pixel743',\n",
              "  'pixel744',\n",
              "  'pixel745',\n",
              "  'pixel746',\n",
              "  'pixel747',\n",
              "  'pixel748',\n",
              "  'pixel749',\n",
              "  'pixel750',\n",
              "  'pixel751',\n",
              "  'pixel752',\n",
              "  'pixel753',\n",
              "  'pixel754',\n",
              "  'pixel755',\n",
              "  'pixel756',\n",
              "  'pixel757',\n",
              "  'pixel758',\n",
              "  'pixel759',\n",
              "  'pixel760',\n",
              "  'pixel761',\n",
              "  'pixel762',\n",
              "  'pixel763',\n",
              "  'pixel764',\n",
              "  'pixel765',\n",
              "  'pixel766',\n",
              "  'pixel767',\n",
              "  'pixel768',\n",
              "  'pixel769',\n",
              "  'pixel770',\n",
              "  'pixel771',\n",
              "  'pixel772',\n",
              "  'pixel773',\n",
              "  'pixel774',\n",
              "  'pixel775',\n",
              "  'pixel776',\n",
              "  'pixel777',\n",
              "  'pixel778',\n",
              "  'pixel779',\n",
              "  'pixel780',\n",
              "  'pixel781',\n",
              "  'pixel782',\n",
              "  'pixel783',\n",
              "  'pixel784'],\n",
              " 'target_names': ['class'],\n",
              " 'DESCR': \"**Author**: Yann LeCun, Corinna Cortes, Christopher J.C. Burges  \\n**Source**: [MNIST Website](http://yann.lecun.com/exdb/mnist/) - Date unknown  \\n**Please cite**:  \\n\\nThe MNIST database of handwritten digits with 784 features, raw data available at: http://yann.lecun.com/exdb/mnist/. It can be split in a training set of the first 60,000 examples, and a test set of 10,000 examples  \\n\\nIt is a subset of a larger set available from NIST. The digits have been size-normalized and centered in a fixed-size image. It is a good database for people who want to try learning techniques and pattern recognition methods on real-world data while spending minimal efforts on preprocessing and formatting. The original black and white (bilevel) images from NIST were size normalized to fit in a 20x20 pixel box while preserving their aspect ratio. The resulting images contain grey levels as a result of the anti-aliasing technique used by the normalization algorithm. the images were centered in a 28x28 image by computing the center of mass of the pixels, and translating the image so as to position this point at the center of the 28x28 field.  \\n\\nWith some classification methods (particularly template-based methods, such as SVM and K-nearest neighbors), the error rate improves when the digits are centered by bounding box rather than center of mass. If you do this kind of pre-processing, you should report it in your publications. The MNIST database was constructed from NIST's NIST originally designated SD-3 as their training set and SD-1 as their test set. However, SD-3 is much cleaner and easier to recognize than SD-1. The reason for this can be found on the fact that SD-3 was collected among Census Bureau employees, while SD-1 was collected among high-school students. Drawing sensible conclusions from learning experiments requires that the result be independent of the choice of training set and test among the complete set of samples. Therefore it was necessary to build a new database by mixing NIST's datasets.  \\n\\nThe MNIST training set is composed of 30,000 patterns from SD-3 and 30,000 patterns from SD-1. Our test set was composed of 5,000 patterns from SD-3 and 5,000 patterns from SD-1. The 60,000 pattern training set contained examples from approximately 250 writers. We made sure that the sets of writers of the training set and test set were disjoint. SD-1 contains 58,527 digit images written by 500 different writers. In contrast to SD-3, where blocks of data from each writer appeared in sequence, the data in SD-1 is scrambled. Writer identities for SD-1 is available and we used this information to unscramble the writers. We then split SD-1 in two: characters written by the first 250 writers went into our new training set. The remaining 250 writers were placed in our test set. Thus we had two sets with nearly 30,000 examples each. The new training set was completed with enough examples from SD-3, starting at pattern # 0, to make a full set of 60,000 training patterns. Similarly, the new test set was completed with SD-3 examples starting at pattern # 35,000 to make a full set with 60,000 test patterns. Only a subset of 10,000 test images (5,000 from SD-1 and 5,000 from SD-3) is available on this site. The full 60,000 sample training set is available.\\n\\nDownloaded from openml.org.\",\n",
              " 'details': {'id': '554',\n",
              "  'name': 'mnist_784',\n",
              "  'version': '1',\n",
              "  'description_version': '2',\n",
              "  'format': 'ARFF',\n",
              "  'creator': ['Yann LeCun', 'Corinna Cortes', 'Christopher J.C. Burges'],\n",
              "  'upload_date': '2014-09-29T03:28:38',\n",
              "  'language': 'English',\n",
              "  'licence': 'Public',\n",
              "  'url': 'https://api.openml.org/data/v1/download/52667/mnist_784.arff',\n",
              "  'parquet_url': 'https://data.openml.org/datasets/0000/0554/dataset_554.pq',\n",
              "  'file_id': '52667',\n",
              "  'default_target_attribute': 'class',\n",
              "  'tag': ['Artificial Intelligence',\n",
              "   'AzurePilot',\n",
              "   'Computer Vision',\n",
              "   'Data Sets',\n",
              "   'Kaggle',\n",
              "   'Machine Learning',\n",
              "   'OpenML-CC18',\n",
              "   'OpenML100',\n",
              "   'study_1',\n",
              "   'study_123',\n",
              "   'study_41',\n",
              "   'study_99',\n",
              "   'vision'],\n",
              "  'visibility': 'public',\n",
              "  'minio_url': 'https://data.openml.org/datasets/0000/0554/dataset_554.pq',\n",
              "  'status': 'active',\n",
              "  'processing_date': '2020-11-20 20:12:09',\n",
              "  'md5_checksum': '0298d579eb1b86163de7723944c7e495'},\n",
              " 'url': 'https://www.openml.org/d/554'}"
            ]
          },
          "metadata": {},
          "execution_count": 9
        }
      ]
    },
    {
      "cell_type": "code",
      "source": [
        "# extra code - it's a bit too long\n",
        "# Print the description of the MNIST dataset\n",
        "print(mnist.DESCR)"
      ],
      "metadata": {
        "colab": {
          "base_uri": "https://localhost:8080/"
        },
        "id": "UnoFtQNjDG8Q",
        "outputId": "09bd7b55-6333-4a4e-b63a-af0f788b921c"
      },
      "execution_count": 10,
      "outputs": [
        {
          "output_type": "stream",
          "name": "stdout",
          "text": [
            "**Author**: Yann LeCun, Corinna Cortes, Christopher J.C. Burges  \n",
            "**Source**: [MNIST Website](http://yann.lecun.com/exdb/mnist/) - Date unknown  \n",
            "**Please cite**:  \n",
            "\n",
            "The MNIST database of handwritten digits with 784 features, raw data available at: http://yann.lecun.com/exdb/mnist/. It can be split in a training set of the first 60,000 examples, and a test set of 10,000 examples  \n",
            "\n",
            "It is a subset of a larger set available from NIST. The digits have been size-normalized and centered in a fixed-size image. It is a good database for people who want to try learning techniques and pattern recognition methods on real-world data while spending minimal efforts on preprocessing and formatting. The original black and white (bilevel) images from NIST were size normalized to fit in a 20x20 pixel box while preserving their aspect ratio. The resulting images contain grey levels as a result of the anti-aliasing technique used by the normalization algorithm. the images were centered in a 28x28 image by computing the center of mass of the pixels, and translating the image so as to position this point at the center of the 28x28 field.  \n",
            "\n",
            "With some classification methods (particularly template-based methods, such as SVM and K-nearest neighbors), the error rate improves when the digits are centered by bounding box rather than center of mass. If you do this kind of pre-processing, you should report it in your publications. The MNIST database was constructed from NIST's NIST originally designated SD-3 as their training set and SD-1 as their test set. However, SD-3 is much cleaner and easier to recognize than SD-1. The reason for this can be found on the fact that SD-3 was collected among Census Bureau employees, while SD-1 was collected among high-school students. Drawing sensible conclusions from learning experiments requires that the result be independent of the choice of training set and test among the complete set of samples. Therefore it was necessary to build a new database by mixing NIST's datasets.  \n",
            "\n",
            "The MNIST training set is composed of 30,000 patterns from SD-3 and 30,000 patterns from SD-1. Our test set was composed of 5,000 patterns from SD-3 and 5,000 patterns from SD-1. The 60,000 pattern training set contained examples from approximately 250 writers. We made sure that the sets of writers of the training set and test set were disjoint. SD-1 contains 58,527 digit images written by 500 different writers. In contrast to SD-3, where blocks of data from each writer appeared in sequence, the data in SD-1 is scrambled. Writer identities for SD-1 is available and we used this information to unscramble the writers. We then split SD-1 in two: characters written by the first 250 writers went into our new training set. The remaining 250 writers were placed in our test set. Thus we had two sets with nearly 30,000 examples each. The new training set was completed with enough examples from SD-3, starting at pattern # 0, to make a full set of 60,000 training patterns. Similarly, the new test set was completed with SD-3 examples starting at pattern # 35,000 to make a full set with 60,000 test patterns. Only a subset of 10,000 test images (5,000 from SD-1 and 5,000 from SD-3) is available on this site. The full 60,000 sample training set is available.\n",
            "\n",
            "Downloaded from openml.org.\n"
          ]
        }
      ]
    },
    {
      "cell_type": "code",
      "source": [
        "# Print the keys of the mnist dataset dictionary\n",
        "mnist.keys()"
      ],
      "metadata": {
        "colab": {
          "base_uri": "https://localhost:8080/"
        },
        "id": "sp8H6gwmDaWB",
        "outputId": "5dfc5423-15f0-43ff-d4b2-c3bb556dd84a"
      },
      "execution_count": 11,
      "outputs": [
        {
          "output_type": "execute_result",
          "data": {
            "text/plain": [
              "dict_keys(['data', 'target', 'frame', 'categories', 'feature_names', 'target_names', 'DESCR', 'details', 'url'])"
            ]
          },
          "metadata": {},
          "execution_count": 11
        }
      ]
    },
    {
      "cell_type": "code",
      "source": [
        "# Assign the data (images) to X and the target (labels) to y\n",
        "X , y = mnist.data, mnist.target\n",
        "# Display the features (image data)\n",
        "X"
      ],
      "metadata": {
        "colab": {
          "base_uri": "https://localhost:8080/"
        },
        "id": "TTSbZ3g3Dfb1",
        "outputId": "7311669d-3169-41b8-8776-eecaf3d93a9b"
      },
      "execution_count": 12,
      "outputs": [
        {
          "output_type": "execute_result",
          "data": {
            "text/plain": [
              "array([[0, 0, 0, ..., 0, 0, 0],\n",
              "       [0, 0, 0, ..., 0, 0, 0],\n",
              "       [0, 0, 0, ..., 0, 0, 0],\n",
              "       ...,\n",
              "       [0, 0, 0, ..., 0, 0, 0],\n",
              "       [0, 0, 0, ..., 0, 0, 0],\n",
              "       [0, 0, 0, ..., 0, 0, 0]])"
            ]
          },
          "metadata": {},
          "execution_count": 12
        }
      ]
    },
    {
      "cell_type": "code",
      "source": [
        "# Print the shape of the features array (number of samples, number of features)\n",
        "X.shape"
      ],
      "metadata": {
        "colab": {
          "base_uri": "https://localhost:8080/"
        },
        "id": "oFk3q9jTDqXI",
        "outputId": "f7de7b1f-2cfa-43a3-891e-2ac1fa9122cc"
      },
      "execution_count": 13,
      "outputs": [
        {
          "output_type": "execute_result",
          "data": {
            "text/plain": [
              "(70000, 784)"
            ]
          },
          "metadata": {},
          "execution_count": 13
        }
      ]
    },
    {
      "cell_type": "code",
      "source": [
        "# Display the target labels\n",
        "y"
      ],
      "metadata": {
        "colab": {
          "base_uri": "https://localhost:8080/"
        },
        "id": "vgiEqjUPDsSQ",
        "outputId": "1b01cb32-dcad-4cae-e8f5-9327e4658c49"
      },
      "execution_count": 14,
      "outputs": [
        {
          "output_type": "execute_result",
          "data": {
            "text/plain": [
              "array(['5', '0', '4', ..., '4', '5', '6'], dtype=object)"
            ]
          },
          "metadata": {},
          "execution_count": 14
        }
      ]
    },
    {
      "cell_type": "code",
      "source": [
        "# Print the shape of the target array (number of samples)\n",
        "y.shape"
      ],
      "metadata": {
        "colab": {
          "base_uri": "https://localhost:8080/"
        },
        "id": "-Jm3NowDDv1J",
        "outputId": "9232a4ab-78ad-400e-c6e5-fa4b5de59074"
      },
      "execution_count": 15,
      "outputs": [
        {
          "output_type": "execute_result",
          "data": {
            "text/plain": [
              "(70000,)"
            ]
          },
          "metadata": {},
          "execution_count": 15
        }
      ]
    },
    {
      "cell_type": "code",
      "source": [
        "# Calculate the number of pixels in a 28x28 image\n",
        "28 *28"
      ],
      "metadata": {
        "colab": {
          "base_uri": "https://localhost:8080/"
        },
        "id": "RZ77ro19DxMv",
        "outputId": "82234b50-1d4f-4431-f2ac-ed01202403d9"
      },
      "execution_count": 16,
      "outputs": [
        {
          "output_type": "execute_result",
          "data": {
            "text/plain": [
              "784"
            ]
          },
          "metadata": {},
          "execution_count": 16
        }
      ]
    },
    {
      "cell_type": "code",
      "source": [
        "# Import the matplotlib.pyplot module for plotting\n",
        "import matplotlib.pyplot as plt\n",
        "# Import the os module for interacting with the operating system\n",
        "import os\n",
        "\n",
        "# extra code - add a save_fig() helper function\n",
        "# Define the path to save images\n",
        "IMAGES_PATH = \".\" # or any other path you prefer to save the images\n",
        "# Create the directory if it doesn't exist\n",
        "os.makedirs(IMAGES_PATH, exist_ok=True)\n",
        "\n",
        "# Define a function to save figures\n",
        "def save_fig(fig_id, tight_layout=True, fig_extension=\"png\", resolution=300):\n",
        "    # Create the full path for saving the figure\n",
        "    path = os.path.join(IMAGES_PATH, fig_id + \".\" + fig_extension)\n",
        "    # Print a message indicating the figure is being saved\n",
        "    print(\"Saving figure\", fig_id)\n",
        "    # Apply tight layout to the plot if specified\n",
        "    if tight_layout:\n",
        "        plt.tight_layout()\n",
        "    # Save the figure to the specified path\n",
        "    plt.savefig(path, format=fig_extension, dpi=resolution)\n",
        "\n",
        "# Define a function to plot a single digit image\n",
        "def plot_digit(image_data):\n",
        "  # Reshape the 1D image data into a 28x28 2D array\n",
        "  image = image_data.reshape(28, 28)\n",
        "  # Display the image in grayscale\n",
        "  plt.imshow(image, cmap='binary')\n",
        "  # Turn off the axis\n",
        "  plt.axis('off')\n",
        "\n",
        "# Get the first digit from the dataset\n",
        "some_digit = X[0]\n",
        "# Plot the first digit\n",
        "plot_digit(some_digit)\n",
        "# Save the plot\n",
        "save_fig('some_digit_plot')\n",
        "# Show the plot\n",
        "plt.show()"
      ],
      "metadata": {
        "colab": {
          "base_uri": "https://localhost:8080/",
          "height": 493
        },
        "id": "NHLYb2SZD0T4",
        "outputId": "d41b2562-92f1-4ea4-d519-35f704a00b12"
      },
      "execution_count": 17,
      "outputs": [
        {
          "output_type": "stream",
          "name": "stdout",
          "text": [
            "Saving figure some_digit_plot\n"
          ]
        },
        {
          "output_type": "display_data",
          "data": {
            "text/plain": [
              "<Figure size 640x480 with 1 Axes>"
            ],
            "image/png": "[encoded data removed]"
          },
          "metadata": {}
        }
      ]
    },
    {
      "cell_type": "code",
      "source": [
        "# Print the label of the first digit\n",
        "y[0]"
      ],
      "metadata": {
        "colab": {
          "base_uri": "https://localhost:8080/",
          "height": 36
        },
        "id": "DbL8bH9lErH6",
        "outputId": "a9f5555a-692d-4702-84b7-3c338bc2617f"
      },
      "execution_count": 18,
      "outputs": [
        {
          "output_type": "execute_result",
          "data": {
            "text/plain": [
              "'5'"
            ],
            "application/vnd.google.colaboratory.intrinsic+json": {
              "type": "string"
            }
          },
          "metadata": {},
          "execution_count": 18
        }
      ]
    },
    {
      "cell_type": "code",
      "source": [
        "# Create a figure with a specified size\n",
        "plt.figure (figsize=(9, 9))\n",
        "# Loop through the first 100 images\n",
        "for idx, image_data in enumerate(X[:100]):\n",
        "  # Create subplots in a 10x10 grid\n",
        "  plt.subplot(10, 10, idx + 1)\n",
        "  # Plot each digit\n",
        "  plot_digit(image_data)\n",
        "\n",
        "# Adjust the spacing between subplots\n",
        "plt.subplots_adjust(wspace=0.2, hspace=0.5)\n",
        "# Save the figure\n",
        "save_fig('mnist_digits_plot',tight_layout=False)\n",
        "# Show the plot\n",
        "plt.show()"
      ],
      "metadata": {
        "colab": {
          "base_uri": "https://localhost:8080/",
          "height": 748
        },
        "id": "0LrLAT-8Euey",
        "outputId": "fa2b5262-b4b4-40c1-cfb1-5bfb35016c70"
      },
      "execution_count": 19,
      "outputs": [
        {
          "output_type": "stream",
          "name": "stdout",
          "text": [
            "Saving figure mnist_digits_plot\n"
          ]
        },
        {
          "output_type": "display_data",
          "data": {
            "text/plain": [
              "<Figure size 900x900 with 100 Axes>"
            ],
            "image/png": "[encoded data removed]"
          },
          "metadata": {}
        }
      ]
    },
    {
      "cell_type": "code",
      "source": [
        "# Split the data into training and testing sets\n",
        "# The first 60000 samples are for training, the rest for testing\n",
        "X_train, X_test, y_train, y_test = X[:60000], X[60000:], y[:60000], y[60000:]"
      ],
      "metadata": {
        "id": "M666Hk57FQWL"
      },
      "execution_count": 20,
      "outputs": []
    },
    {
      "cell_type": "markdown",
      "source": [
        "# **Training a Binary Classifier**"
      ],
      "metadata": {
        "id": "svDmXIzoFWjr"
      }
    },
    {
      "cell_type": "code",
      "source": [
        "# Create binary target variables: True if the digit is '5', False otherwise\n",
        "y_train_5 = (y_train == '5')\n",
        "y_test_5 = (y_test == '5')"
      ],
      "metadata": {
        "id": "1m1iM2oIFWE8"
      },
      "execution_count": 21,
      "outputs": []
    },
    {
      "cell_type": "code",
      "source": [
        "# Import the SGDClassifier from sklearn.linear_model\n",
        "from sklearn.linear_model import SGDClassifier\n",
        "\n",
        "# Create an instance of the SGDClassifier with a random state for reproducibility\n",
        "sgd_clf = SGDClassifier(random_state=42)\n",
        "# Train the classifier on the training data\n",
        "sgd_clf.fit(X_train, y_train_5)"
      ],
      "metadata": {
        "colab": {
          "base_uri": "https://localhost:8080/",
          "height": 80
        },
        "id": "qiji8hAgFdaL",
        "outputId": "92efd47d-13ad-4671-d414-1b525153b9bb"
      },
      "execution_count": 22,
      "outputs": [
        {
          "output_type": "execute_result",
          "data": {
            "text/plain": [
              "SGDClassifier(random_state=42)"
            ],
            "text/html": [
              "<style>#sk-container-id-1 {\n",
              "  /* Definition of color scheme common for light and dark mode */\n",
              "  --sklearn-color-text: #000;\n",
              "  --sklearn-color-text-muted: #666;\n",
              "  --sklearn-color-line: gray;\n",
              "  /* Definition of color scheme for unfitted estimators */\n",
              "  --sklearn-color-unfitted-level-0: #fff5e6;\n",
              "  --sklearn-color-unfitted-level-1: #f6e4d2;\n",
              "  --sklearn-color-unfitted-level-2: #ffe0b3;\n",
              "  --sklearn-color-unfitted-level-3: chocolate;\n",
              "  /* Definition of color scheme for fitted estimators */\n",
              "  --sklearn-color-fitted-level-0: #f0f8ff;\n",
              "  --sklearn-color-fitted-level-1: #d4ebff;\n",
              "  --sklearn-color-fitted-level-2: #b3dbfd;\n",
              "  --sklearn-color-fitted-level-3: cornflowerblue;\n",
              "\n",
              "  /* Specific color for light theme */\n",
              "  --sklearn-color-text-on-default-background: var(--sg-text-color, var(--theme-code-foreground, var(--jp-content-font-color1, black)));\n",
              "  --sklearn-color-background: var(--sg-background-color, var(--theme-background, var(--jp-layout-color0, white)));\n",
              "  --sklearn-color-border-box: var(--sg-text-color, var(--theme-code-foreground, var(--jp-content-font-color1, black)));\n",
              "  --sklearn-color-icon: #696969;\n",
              "\n",
              "  @media (prefers-color-scheme: dark) {\n",
              "    /* Redefinition of color scheme for dark theme */\n",
              "    --sklearn-color-text-on-default-background: var(--sg-text-color, var(--theme-code-foreground, var(--jp-content-font-color1, white)));\n",
              "    --sklearn-color-background: var(--sg-background-color, var(--theme-background, var(--jp-layout-color0, #111)));\n",
              "    --sklearn-color-border-box: var(--sg-text-color, var(--theme-code-foreground, var(--jp-content-font-color1, white)));\n",
              "    --sklearn-color-icon: #878787;\n",
              "  }\n",
              "}\n",
              "\n",
              "#sk-container-id-1 {\n",
              "  color: var(--sklearn-color-text);\n",
              "}\n",
              "\n",
              "#sk-container-id-1 pre {\n",
              "  padding: 0;\n",
              "}\n",
              "\n",
              "#sk-container-id-1 input.sk-hidden--visually {\n",
              "  border: 0;\n",
              "  clip: rect(1px 1px 1px 1px);\n",
              "  clip: rect(1px, 1px, 1px, 1px);\n",
              "  height: 1px;\n",
              "  margin: -1px;\n",
              "  overflow: hidden;\n",
              "  padding: 0;\n",
              "  position: absolute;\n",
              "  width: 1px;\n",
              "}\n",
              "\n",
              "#sk-container-id-1 div.sk-dashed-wrapped {\n",
              "  border: 1px dashed var(--sklearn-color-line);\n",
              "  margin: 0 0.4em 0.5em 0.4em;\n",
              "  box-sizing: border-box;\n",
              "  padding-bottom: 0.4em;\n",
              "  background-color: var(--sklearn-color-background);\n",
              "}\n",
              "\n",
              "#sk-container-id-1 div.sk-container {\n",
              "  /* jupyter's `normalize.less` sets `[hidden] { display: none; }`\n",
              "     but bootstrap.min.css set `[hidden] { display: none !important; }`\n",
              "     so we also need the `!important` here to be able to override the\n",
              "     default hidden behavior on the sphinx rendered scikit-learn.org.\n",
              "     See: https://github.com/scikit-learn/scikit-learn/issues/21755 */\n",
              "  display: inline-block !important;\n",
              "  position: relative;\n",
              "}\n",
              "\n",
              "#sk-container-id-1 div.sk-text-repr-fallback {\n",
              "  display: none;\n",
              "}\n",
              "\n",
              "div.sk-parallel-item,\n",
              "div.sk-serial,\n",
              "div.sk-item {\n",
              "  /* draw centered vertical line to link estimators */\n",
              "  background-image: linear-gradient(var(--sklearn-color-text-on-default-background), var(--sklearn-color-text-on-default-background));\n",
              "  background-size: 2px 100%;\n",
              "  background-repeat: no-repeat;\n",
              "  background-position: center center;\n",
              "}\n",
              "\n",
              "/* Parallel-specific style estimator block */\n",
              "\n",
              "#sk-container-id-1 div.sk-parallel-item::after {\n",
              "  content: \"\";\n",
              "  width: 100%;\n",
              "  border-bottom: 2px solid var(--sklearn-color-text-on-default-background);\n",
              "  flex-grow: 1;\n",
              "}\n",
              "\n",
              "#sk-container-id-1 div.sk-parallel {\n",
              "  display: flex;\n",
              "  align-items: stretch;\n",
              "  justify-content: center;\n",
              "  background-color: var(--sklearn-color-background);\n",
              "  position: relative;\n",
              "}\n",
              "\n",
              "#sk-container-id-1 div.sk-parallel-item {\n",
              "  display: flex;\n",
              "  flex-direction: column;\n",
              "}\n",
              "\n",
              "#sk-container-id-1 div.sk-parallel-item:first-child::after {\n",
              "  align-self: flex-end;\n",
              "  width: 50%;\n",
              "}\n",
              "\n",
              "#sk-container-id-1 div.sk-parallel-item:last-child::after {\n",
              "  align-self: flex-start;\n",
              "  width: 50%;\n",
              "}\n",
              "\n",
              "#sk-container-id-1 div.sk-parallel-item:only-child::after {\n",
              "  width: 0;\n",
              "}\n",
              "\n",
              "/* Serial-specific style estimator block */\n",
              "\n",
              "#sk-container-id-1 div.sk-serial {\n",
              "  display: flex;\n",
              "  flex-direction: column;\n",
              "  align-items: center;\n",
              "  background-color: var(--sklearn-color-background);\n",
              "  padding-right: 1em;\n",
              "  padding-left: 1em;\n",
              "}\n",
              "\n",
              "\n",
              "/* Toggleable style: style used for estimator/Pipeline/ColumnTransformer box that is\n",
              "clickable and can be expanded/collapsed.\n",
              "- Pipeline and ColumnTransformer use this feature and define the default style\n",
              "- Estimators will overwrite some part of the style using the `sk-estimator` class\n",
              "*/\n",
              "\n",
              "/* Pipeline and ColumnTransformer style (default) */\n",
              "\n",
              "#sk-container-id-1 div.sk-toggleable {\n",
              "  /* Default theme specific background. It is overwritten whether we have a\n",
              "  specific estimator or a Pipeline/ColumnTransformer */\n",
              "  background-color: var(--sklearn-color-background);\n",
              "}\n",
              "\n",
              "/* Toggleable label */\n",
              "#sk-container-id-1 label.sk-toggleable__label {\n",
              "  cursor: pointer;\n",
              "  display: flex;\n",
              "  width: 100%;\n",
              "  margin-bottom: 0;\n",
              "  padding: 0.5em;\n",
              "  box-sizing: border-box;\n",
              "  text-align: center;\n",
              "  align-items: start;\n",
              "  justify-content: space-between;\n",
              "  gap: 0.5em;\n",
              "}\n",
              "\n",
              "#sk-container-id-1 label.sk-toggleable__label .caption {\n",
              "  font-size: 0.6rem;\n",
              "  font-weight: lighter;\n",
              "  color: var(--sklearn-color-text-muted);\n",
              "}\n",
              "\n",
              "#sk-container-id-1 label.sk-toggleable__label-arrow:before {\n",
              "  /* Arrow on the left of the label */\n",
              "  content: \"▸\";\n",
              "  float: left;\n",
              "  margin-right: 0.25em;\n",
              "  color: var(--sklearn-color-icon);\n",
              "}\n",
              "\n",
              "#sk-container-id-1 label.sk-toggleable__label-arrow:hover:before {\n",
              "  color: var(--sklearn-color-text);\n",
              "}\n",
              "\n",
              "/* Toggleable content - dropdown */\n",
              "\n",
              "#sk-container-id-1 div.sk-toggleable__content {\n",
              "  max-height: 0;\n",
              "  max-width: 0;\n",
              "  overflow: hidden;\n",
              "  text-align: left;\n",
              "  /* unfitted */\n",
              "  background-color: var(--sklearn-color-unfitted-level-0);\n",
              "}\n",
              "\n",
              "#sk-container-id-1 div.sk-toggleable__content.fitted {\n",
              "  /* fitted */\n",
              "  background-color: var(--sklearn-color-fitted-level-0);\n",
              "}\n",
              "\n",
              "#sk-container-id-1 div.sk-toggleable__content pre {\n",
              "  margin: 0.2em;\n",
              "  border-radius: 0.25em;\n",
              "  color: var(--sklearn-color-text);\n",
              "  /* unfitted */\n",
              "  background-color: var(--sklearn-color-unfitted-level-0);\n",
              "}\n",
              "\n",
              "#sk-container-id-1 div.sk-toggleable__content.fitted pre {\n",
              "  /* unfitted */\n",
              "  background-color: var(--sklearn-color-fitted-level-0);\n",
              "}\n",
              "\n",
              "#sk-container-id-1 input.sk-toggleable__control:checked~div.sk-toggleable__content {\n",
              "  /* Expand drop-down */\n",
              "  max-height: 200px;\n",
              "  max-width: 100%;\n",
              "  overflow: auto;\n",
              "}\n",
              "\n",
              "#sk-container-id-1 input.sk-toggleable__control:checked~label.sk-toggleable__label-arrow:before {\n",
              "  content: \"▾\";\n",
              "}\n",
              "\n",
              "/* Pipeline/ColumnTransformer-specific style */\n",
              "\n",
              "#sk-container-id-1 div.sk-label input.sk-toggleable__control:checked~label.sk-toggleable__label {\n",
              "  color: var(--sklearn-color-text);\n",
              "  background-color: var(--sklearn-color-unfitted-level-2);\n",
              "}\n",
              "\n",
              "#sk-container-id-1 div.sk-label.fitted input.sk-toggleable__control:checked~label.sk-toggleable__label {\n",
              "  background-color: var(--sklearn-color-fitted-level-2);\n",
              "}\n",
              "\n",
              "/* Estimator-specific style */\n",
              "\n",
              "/* Colorize estimator box */\n",
              "#sk-container-id-1 div.sk-estimator input.sk-toggleable__control:checked~label.sk-toggleable__label {\n",
              "  /* unfitted */\n",
              "  background-color: var(--sklearn-color-unfitted-level-2);\n",
              "}\n",
              "\n",
              "#sk-container-id-1 div.sk-estimator.fitted input.sk-toggleable__control:checked~label.sk-toggleable__label {\n",
              "  /* fitted */\n",
              "  background-color: var(--sklearn-color-fitted-level-2);\n",
              "}\n",
              "\n",
              "#sk-container-id-1 div.sk-label label.sk-toggleable__label,\n",
              "#sk-container-id-1 div.sk-label label {\n",
              "  /* The background is the default theme color */\n",
              "  color: var(--sklearn-color-text-on-default-background);\n",
              "}\n",
              "\n",
              "/* On hover, darken the color of the background */\n",
              "#sk-container-id-1 div.sk-label:hover label.sk-toggleable__label {\n",
              "  color: var(--sklearn-color-text);\n",
              "  background-color: var(--sklearn-color-unfitted-level-2);\n",
              "}\n",
              "\n",
              "/* Label box, darken color on hover, fitted */\n",
              "#sk-container-id-1 div.sk-label.fitted:hover label.sk-toggleable__label.fitted {\n",
              "  color: var(--sklearn-color-text);\n",
              "  background-color: var(--sklearn-color-fitted-level-2);\n",
              "}\n",
              "\n",
              "/* Estimator label */\n",
              "\n",
              "#sk-container-id-1 div.sk-label label {\n",
              "  font-family: monospace;\n",
              "  font-weight: bold;\n",
              "  display: inline-block;\n",
              "  line-height: 1.2em;\n",
              "}\n",
              "\n",
              "#sk-container-id-1 div.sk-label-container {\n",
              "  text-align: center;\n",
              "}\n",
              "\n",
              "/* Estimator-specific */\n",
              "#sk-container-id-1 div.sk-estimator {\n",
              "  font-family: monospace;\n",
              "  border: 1px dotted var(--sklearn-color-border-box);\n",
              "  border-radius: 0.25em;\n",
              "  box-sizing: border-box;\n",
              "  margin-bottom: 0.5em;\n",
              "  /* unfitted */\n",
              "  background-color: var(--sklearn-color-unfitted-level-0);\n",
              "}\n",
              "\n",
              "#sk-container-id-1 div.sk-estimator.fitted {\n",
              "  /* fitted */\n",
              "  background-color: var(--sklearn-color-fitted-level-0);\n",
              "}\n",
              "\n",
              "/* on hover */\n",
              "#sk-container-id-1 div.sk-estimator:hover {\n",
              "  /* unfitted */\n",
              "  background-color: var(--sklearn-color-unfitted-level-2);\n",
              "}\n",
              "\n",
              "#sk-container-id-1 div.sk-estimator.fitted:hover {\n",
              "  /* fitted */\n",
              "  background-color: var(--sklearn-color-fitted-level-2);\n",
              "}\n",
              "\n",
              "/* Specification for estimator info (e.g. \"i\" and \"?\") */\n",
              "\n",
              "/* Common style for \"i\" and \"?\" */\n",
              "\n",
              ".sk-estimator-doc-link,\n",
              "a:link.sk-estimator-doc-link,\n",
              "a:visited.sk-estimator-doc-link {\n",
              "  float: right;\n",
              "  font-size: smaller;\n",
              "  line-height: 1em;\n",
              "  font-family: monospace;\n",
              "  background-color: var(--sklearn-color-background);\n",
              "  border-radius: 1em;\n",
              "  height: 1em;\n",
              "  width: 1em;\n",
              "  text-decoration: none !important;\n",
              "  margin-left: 0.5em;\n",
              "  text-align: center;\n",
              "  /* unfitted */\n",
              "  border: var(--sklearn-color-unfitted-level-1) 1pt solid;\n",
              "  color: var(--sklearn-color-unfitted-level-1);\n",
              "}\n",
              "\n",
              ".sk-estimator-doc-link.fitted,\n",
              "a:link.sk-estimator-doc-link.fitted,\n",
              "a:visited.sk-estimator-doc-link.fitted {\n",
              "  /* fitted */\n",
              "  border: var(--sklearn-color-fitted-level-1) 1pt solid;\n",
              "  color: var(--sklearn-color-fitted-level-1);\n",
              "}\n",
              "\n",
              "/* On hover */\n",
              "div.sk-estimator:hover .sk-estimator-doc-link:hover,\n",
              ".sk-estimator-doc-link:hover,\n",
              "div.sk-label-container:hover .sk-estimator-doc-link:hover,\n",
              ".sk-estimator-doc-link:hover {\n",
              "  /* unfitted */\n",
              "  background-color: var(--sklearn-color-unfitted-level-3);\n",
              "  color: var(--sklearn-color-background);\n",
              "  text-decoration: none;\n",
              "}\n",
              "\n",
              "div.sk-estimator.fitted:hover .sk-estimator-doc-link.fitted:hover,\n",
              ".sk-estimator-doc-link.fitted:hover,\n",
              "div.sk-label-container:hover .sk-estimator-doc-link.fitted:hover,\n",
              ".sk-estimator-doc-link.fitted:hover {\n",
              "  /* fitted */\n",
              "  background-color: var(--sklearn-color-fitted-level-3);\n",
              "  color: var(--sklearn-color-background);\n",
              "  text-decoration: none;\n",
              "}\n",
              "\n",
              "/* Span, style for the box shown on hovering the info icon */\n",
              ".sk-estimator-doc-link span {\n",
              "  display: none;\n",
              "  z-index: 9999;\n",
              "  position: relative;\n",
              "  font-weight: normal;\n",
              "  right: .2ex;\n",
              "  padding: .5ex;\n",
              "  margin: .5ex;\n",
              "  width: min-content;\n",
              "  min-width: 20ex;\n",
              "  max-width: 50ex;\n",
              "  color: var(--sklearn-color-text);\n",
              "  box-shadow: 2pt 2pt 4pt #999;\n",
              "  /* unfitted */\n",
              "  background: var(--sklearn-color-unfitted-level-0);\n",
              "  border: .5pt solid var(--sklearn-color-unfitted-level-3);\n",
              "}\n",
              "\n",
              ".sk-estimator-doc-link.fitted span {\n",
              "  /* fitted */\n",
              "  background: var(--sklearn-color-fitted-level-0);\n",
              "  border: var(--sklearn-color-fitted-level-3);\n",
              "}\n",
              "\n",
              ".sk-estimator-doc-link:hover span {\n",
              "  display: block;\n",
              "}\n",
              "\n",
              "/* \"?\"-specific style due to the `<a>` HTML tag */\n",
              "\n",
              "#sk-container-id-1 a.estimator_doc_link {\n",
              "  float: right;\n",
              "  font-size: 1rem;\n",
              "  line-height: 1em;\n",
              "  font-family: monospace;\n",
              "  background-color: var(--sklearn-color-background);\n",
              "  border-radius: 1rem;\n",
              "  height: 1rem;\n",
              "  width: 1rem;\n",
              "  text-decoration: none;\n",
              "  /* unfitted */\n",
              "  color: var(--sklearn-color-unfitted-level-1);\n",
              "  border: var(--sklearn-color-unfitted-level-1) 1pt solid;\n",
              "}\n",
              "\n",
              "#sk-container-id-1 a.estimator_doc_link.fitted {\n",
              "  /* fitted */\n",
              "  border: var(--sklearn-color-fitted-level-1) 1pt solid;\n",
              "  color: var(--sklearn-color-fitted-level-1);\n",
              "}\n",
              "\n",
              "/* On hover */\n",
              "#sk-container-id-1 a.estimator_doc_link:hover {\n",
              "  /* unfitted */\n",
              "  background-color: var(--sklearn-color-unfitted-level-3);\n",
              "  color: var(--sklearn-color-background);\n",
              "  text-decoration: none;\n",
              "}\n",
              "\n",
              "#sk-container-id-1 a.estimator_doc_link.fitted:hover {\n",
              "  /* fitted */\n",
              "  background-color: var(--sklearn-color-fitted-level-3);\n",
              "}\n",
              "</style><div id=\"sk-container-id-1\" class=\"sk-top-container\"><div class=\"sk-text-repr-fallback\"><pre>SGDClassifier(random_state=42)</pre><b>In a Jupyter environment, please rerun this cell to show the HTML representation or trust the notebook. <br />On GitHub, the HTML representation is unable to render, please try loading this page with nbviewer.org.</b></div><div class=\"sk-container\" hidden><div class=\"sk-item\"><div class=\"sk-estimator fitted sk-toggleable\"><input class=\"sk-toggleable__control sk-hidden--visually\" id=\"sk-estimator-id-1\" type=\"checkbox\" checked><label for=\"sk-estimator-id-1\" class=\"sk-toggleable__label fitted sk-toggleable__label-arrow\"><div><div>SGDClassifier</div></div><div><a class=\"sk-estimator-doc-link fitted\" rel=\"noreferrer\" target=\"_blank\" href=\"https://scikit-learn.org/1.6/modules/generated/sklearn.linear_model.SGDClassifier.html\">?<span>Documentation for SGDClassifier</span></a><span class=\"sk-estimator-doc-link fitted\">i<span>Fitted</span></span></div></label><div class=\"sk-toggleable__content fitted\"><pre>SGDClassifier(random_state=42)</pre></div> </div></div></div></div>"
            ]
          },
          "metadata": {},
          "execution_count": 22
        }
      ]
    },
    {
      "cell_type": "code",
      "source": [
        "# Use the trained classifier to predict if the first digit (some_digit) is a '5'\n",
        "sgd_clf.predict ([some_digit])"
      ],
      "metadata": {
        "colab": {
          "base_uri": "https://localhost:8080/"
        },
        "id": "Y1BmQZiiF9TM",
        "outputId": "1dbe292d-7de5-48b8-83a8-19ab2d78bc13"
      },
      "execution_count": 23,
      "outputs": [
        {
          "output_type": "execute_result",
          "data": {
            "text/plain": [
              "array([ True])"
            ]
          },
          "metadata": {},
          "execution_count": 23
        }
      ]
    },
    {
      "cell_type": "markdown",
      "source": [
        "# **Performance Measures**\n",
        "\n",
        "**Measuring Accuracy Using Cross Validation**"
      ],
      "metadata": {
        "id": "n_1GCdeJGHyU"
      }
    },
    {
      "cell_type": "code",
      "source": [
        "# Import cross_val_score from sklearn.model_selection\n",
        "from sklearn.model_selection import cross_val_score\n",
        "# Perform cross-validation with 3 folds and evaluate accuracy\n",
        "cross_val_score(sgd_clf, X_train, y_train_5, cv=3, scoring='accuracy')"
      ],
      "metadata": {
        "colab": {
          "base_uri": "https://localhost:8080/"
        },
        "id": "XNC2lHf0GC5q",
        "outputId": "fa75f644-dbf0-4634-8c31-24ed5e522fed"
      },
      "execution_count": 24,
      "outputs": [
        {
          "output_type": "execute_result",
          "data": {
            "text/plain": [
              "array([0.95035, 0.96035, 0.9604 ])"
            ]
          },
          "metadata": {},
          "execution_count": 24
        }
      ]
    },
    {
      "cell_type": "code",
      "source": [
        "# Import StratifiedKFold and clone from sklearn.model_selection and sklearn.base\n",
        "from sklearn.model_selection import StratifiedKFold\n",
        "from sklearn.base import clone\n",
        "\n",
        "# Create a StratifiedKFold object with 3 splits\n",
        "skfolds = StratifiedKFold(n_splits=3)\n",
        "\n",
        "# Iterate through the splits\n",
        "for train_index, test_index in skfolds.split(X_train, y_train_5):\n",
        "  # Create a clone of the SGDClassifier for each fold\n",
        "  clone_clf = clone(sgd_clf)\n",
        "  # Split the training data into training and validation folds\n",
        "  X_train_folds = X_train[train_index]\n",
        "  y_train_folds = y_train_5[train_index]\n",
        "  X_test_fold = X_train[test_index]\n",
        "  y_test_fold = y_train_5[test_index]\n",
        "\n",
        "  # Train the clone classifier on the training fold\n",
        "  clone_clf.fit(X_train_folds, y_train_folds)\n",
        "  # Make predictions on the validation fold\n",
        "  y_pred = clone_clf.predict(X_test_fold)\n",
        "  # Count the number of correct predictions\n",
        "  n_correct = sum(y_pred == y_test_fold)\n",
        "  # Print the accuracy for the current fold\n",
        "  print(n_correct / len(y_pred))"
      ],
      "metadata": {
        "colab": {
          "base_uri": "https://localhost:8080/"
        },
        "id": "1LKrD6VVGcNd",
        "outputId": "97520faf-9a72-4367-c38e-b357e58d4cfb"
      },
      "execution_count": 25,
      "outputs": [
        {
          "output_type": "stream",
          "name": "stdout",
          "text": [
            "0.95035\n",
            "0.96035\n",
            "0.9604\n"
          ]
        }
      ]
    },
    {
      "cell_type": "code",
      "source": [
        "# Import DummyClassifier from sklearn.dummy\n",
        "from sklearn.dummy import DummyClassifier\n",
        "\n",
        "# Create an instance of the DummyClassifier\n",
        "dummy_clf = DummyClassifier()\n",
        "# Train the dummy classifier on the training data\n",
        "dummy_clf.fit(X_train, y_train_5)\n",
        "# Check if the dummy classifier predicts True for any samples in the training set\n",
        "print(any(dummy_clf.predict(X_train)))"
      ],
      "metadata": {
        "colab": {
          "base_uri": "https://localhost:8080/"
        },
        "id": "eOQ8zbFYGod0",
        "outputId": "76129824-587b-483c-cadf-9f491a5ab750"
      },
      "execution_count": 26,
      "outputs": [
        {
          "output_type": "stream",
          "name": "stdout",
          "text": [
            "False\n"
          ]
        }
      ]
    },
    {
      "cell_type": "code",
      "source": [
        "# Perform cross-validation with 3 folds and evaluate accuracy of the dummy classifier\n",
        "cross_val_score(dummy_clf, X_train, y_train_5, cv=3, scoring='accuracy')"
      ],
      "metadata": {
        "colab": {
          "base_uri": "https://localhost:8080/"
        },
        "id": "dpuaBo-NHdIm",
        "outputId": "6a47233f-7741-47e6-8df9-33e705c67612"
      },
      "execution_count": 27,
      "outputs": [
        {
          "output_type": "execute_result",
          "data": {
            "text/plain": [
              "array([0.90965, 0.90965, 0.90965])"
            ]
          },
          "metadata": {},
          "execution_count": 27
        }
      ]
    },
    {
      "cell_type": "markdown",
      "source": [
        "# **Confusion Matrix**"
      ],
      "metadata": {
        "id": "w9sAtdpFHwAG"
      }
    },
    {
      "cell_type": "code",
      "source": [
        "# Import cross_val_predict from sklearn.model_selection\n",
        "from sklearn.model_selection import cross_val_predict\n",
        "\n",
        "# Perform cross-validation and get the predictions for each sample in the training set\n",
        "y_train_pred = cross_val_predict(sgd_clf, X_train, y_train_5, cv=3)"
      ],
      "metadata": {
        "id": "3fxW9WuvHqWe"
      },
      "execution_count": 28,
      "outputs": []
    },
    {
      "cell_type": "code",
      "source": [
        "# Import confusion_matrix from sklearn.metrics\n",
        "from sklearn.metrics import confusion_matrix\n",
        "\n",
        "# Calculate the confusion matrix using the true labels and predicted labels\n",
        "cm = confusion_matrix(y_train_5, y_train_pred)\n",
        "# Display the confusion matrix\n",
        "cm"
      ],
      "metadata": {
        "colab": {
          "base_uri": "https://localhost:8080/"
        },
        "id": "MK7Zp44CH1pV",
        "outputId": "62a956b2-e819-4199-f1b3-b397f91306f4"
      },
      "execution_count": 29,
      "outputs": [
        {
          "output_type": "execute_result",
          "data": {
            "text/plain": [
              "array([[53892,   687],\n",
              "       [ 1891,  3530]])"
            ]
          },
          "metadata": {},
          "execution_count": 29
        }
      ]
    },
    {
      "cell_type": "code",
      "source": [
        "# Create a perfect prediction scenario where predictions are the same as the true labels\n",
        "y_train_perfect_predictions = y_train_5\n",
        "# Calculate the confusion matrix for the perfect predictions\n",
        "confusion_matrix(y_train_5, y_train_perfect_predictions)"
      ],
      "metadata": {
        "colab": {
          "base_uri": "https://localhost:8080/"
        },
        "id": "u-vdgfjQH_33",
        "outputId": "67375cae-e525-4af8-fd6a-b7d501964548"
      },
      "execution_count": 30,
      "outputs": [
        {
          "output_type": "execute_result",
          "data": {
            "text/plain": [
              "array([[54579,     0],\n",
              "       [    0,  5421]])"
            ]
          },
          "metadata": {},
          "execution_count": 30
        }
      ]
    },
    {
      "cell_type": "markdown",
      "source": [
        "# **Precision and Recall**"
      ],
      "metadata": {
        "id": "CodCbfFQm_e1"
      }
    },
    {
      "cell_type": "code",
      "source": [
        "# Import precision_score and recall_score from sklearn.metrics\n",
        "from sklearn.metrics import precision_score, recall_score\n",
        "\n",
        "# Calculate and print the precision score\n",
        "precision_score(y_train_5, y_train_pred)"
      ],
      "metadata": {
        "colab": {
          "base_uri": "https://localhost:8080/"
        },
        "id": "I6F2O-yhnH2W",
        "outputId": "d6aef296-489b-44a1-de1d-c1e5d2a55418"
      },
      "execution_count": 31,
      "outputs": [
        {
          "output_type": "execute_result",
          "data": {
            "text/plain": [
              "0.8370879772350012"
            ]
          },
          "metadata": {},
          "execution_count": 31
        }
      ]
    },
    {
      "cell_type": "code",
      "source": [
        "# Calculate precision manually from the confusion matrix\n",
        "# True Positives / (True Positives + False Positives)\n",
        "cm [1, 1] / (cm [0, 1] + cm [1, 1])"
      ],
      "metadata": {
        "colab": {
          "base_uri": "https://localhost:8080/"
        },
        "id": "kYu_E9SCnoxd",
        "outputId": "7a552c57-e67c-4af1-c3f0-050cb5643a04"
      },
      "execution_count": 32,
      "outputs": [
        {
          "output_type": "execute_result",
          "data": {
            "text/plain": [
              "np.float64(0.8370879772350012)"
            ]
          },
          "metadata": {},
          "execution_count": 32
        }
      ]
    },
    {
      "cell_type": "code",
      "source": [
        "# Calculate and print the recall score\n",
        "recall_score(y_train_5, y_train_pred)"
      ],
      "metadata": {
        "colab": {
          "base_uri": "https://localhost:8080/"
        },
        "id": "yom8dnV4ntfw",
        "outputId": "9887c827-e4cf-4102-b1f3-fca2cb6cb86c"
      },
      "execution_count": 33,
      "outputs": [
        {
          "output_type": "execute_result",
          "data": {
            "text/plain": [
              "0.6511713705958311"
            ]
          },
          "metadata": {},
          "execution_count": 33
        }
      ]
    },
    {
      "cell_type": "code",
      "source": [
        "# Calculate recall manually from the confusion matrix\n",
        "# True Positives / (True Positives + False Negatives)\n",
        "cm [1, 1] / (cm [1, 0] + cm [1, 1])"
      ],
      "metadata": {
        "colab": {
          "base_uri": "https://localhost:8080/"
        },
        "id": "s-Uo2GLEntdV",
        "outputId": "6a0aafbc-cbe5-4745-ccf5-ce0db8b094b3"
      },
      "execution_count": 34,
      "outputs": [
        {
          "output_type": "execute_result",
          "data": {
            "text/plain": [
              "np.float64(0.6511713705958311)"
            ]
          },
          "metadata": {},
          "execution_count": 34
        }
      ]
    },
    {
      "cell_type": "markdown",
      "source": [
        "# **Precision /Recall Trade-off**"
      ],
      "metadata": {
        "id": "g-XQ72Tin3Nh"
      }
    },
    {
      "cell_type": "code",
      "source": [
        "# Get the decision function scores for the first digit\n",
        "y_scores = sgd_clf.decision_function([some_digit])\n",
        "# Display the scores\n",
        "y_scores"
      ],
      "metadata": {
        "colab": {
          "base_uri": "https://localhost:8080/"
        },
        "id": "Kzli5E7EntaO",
        "outputId": "a3d96cbc-40e2-4acf-9fdd-0e835aa17004"
      },
      "execution_count": 35,
      "outputs": [
        {
          "output_type": "execute_result",
          "data": {
            "text/plain": [
              "array([2164.22030239])"
            ]
          },
          "metadata": {},
          "execution_count": 35
        }
      ]
    },
    {
      "cell_type": "code",
      "source": [
        "# Set a threshold and predict based on the decision function score\n",
        "threshold = 0\n",
        "y_some_digit_pred = (y_scores > threshold)"
      ],
      "metadata": {
        "id": "AfW4EBLwntSM"
      },
      "execution_count": 36,
      "outputs": []
    },
    {
      "cell_type": "code",
      "source": [
        "# Display the prediction\n",
        "y_some_digit_pred"
      ],
      "metadata": {
        "colab": {
          "base_uri": "https://localhost:8080/"
        },
        "id": "Qa8LkhoboIqw",
        "outputId": "c2bc6a03-2f25-426e-ae17-60e1bfde0a05"
      },
      "execution_count": 37,
      "outputs": [
        {
          "output_type": "execute_result",
          "data": {
            "text/plain": [
              "array([ True])"
            ]
          },
          "metadata": {},
          "execution_count": 37
        }
      ]
    },
    {
      "cell_type": "code",
      "source": [
        "# Check if the decision function score is greater than 0\n",
        "y_scores > 0"
      ],
      "metadata": {
        "colab": {
          "base_uri": "https://localhost:8080/"
        },
        "id": "l8kwJbwvoMp1",
        "outputId": "ce0c6aec-6b45-4e7d-e189-6c19568f506b"
      },
      "execution_count": 38,
      "outputs": [
        {
          "output_type": "execute_result",
          "data": {
            "text/plain": [
              "array([ True])"
            ]
          },
          "metadata": {},
          "execution_count": 38
        }
      ]
    },
    {
      "cell_type": "code",
      "source": [
        "# Set a new threshold and predict based on the decision function score\n",
        "threshold = 3000\n",
        "y_some_digit_pred = (y_scores > threshold)\n",
        "# Display the new prediction\n",
        "y_some_digit_pred"
      ],
      "metadata": {
        "colab": {
          "base_uri": "https://localhost:8080/"
        },
        "id": "A5sq4HpMoVzv",
        "outputId": "73c6a7c4-0bc2-48c9-d314-914b4ae51c2c"
      },
      "execution_count": 39,
      "outputs": [
        {
          "output_type": "execute_result",
          "data": {
            "text/plain": [
              "array([False])"
            ]
          },
          "metadata": {},
          "execution_count": 39
        }
      ]
    },
    {
      "cell_type": "code",
      "source": [
        "# Get decision function scores for the entire training set using cross-validation\n",
        "y_scores = cross_val_predict(sgd_clf, X_train, y_train_5, cv=3, method='decision_function')"
      ],
      "metadata": {
        "id": "FZQ0Zh0hoTJu"
      },
      "execution_count": 40,
      "outputs": []
    },
    {
      "cell_type": "code",
      "source": [
        "# Import precision_recall_curve from sklearn.metrics\n",
        "from sklearn.metrics import precision_recall_curve\n",
        "\n",
        "# Calculate precision, recall, and thresholds for the decision scores\n",
        "precisions, recalls, thresholds = precision_recall_curve(y_train_5, y_scores)"
      ],
      "metadata": {
        "id": "CwEA-VTg3S7W"
      },
      "execution_count": 41,
      "outputs": []
    },
    {
      "cell_type": "code",
      "source": [
        "# Plot the precision and recall curves against the thresholds\n",
        "plt.figure(figsize=(8, 4))  # extra code – it's not needed, just formatting\n",
        "plt.plot(thresholds, precisions[:-1], \"b--\", label=\"Precision\", linewidth=2)\n",
        "plt.plot(thresholds, recalls[:-1], \"g-\", label=\"Recall\", linewidth=2)\n",
        "plt.vlines(threshold, 0, 1.0, \"k\", \"dotted\", label=\"threshold\")\n",
        "\n",
        "# extra code – this section just beautifies and saves Figure 3–5\n",
        "idx = (thresholds >= threshold).argmax()  # first index ≥ threshold\n",
        "plt.plot(thresholds[idx], precisions[idx], \"bo\")\n",
        "plt.plot(thresholds[idx], recalls[idx], \"go\")\n",
        "plt.axis([-50000, 50000, 0, 1])\n",
        "plt.grid()\n",
        "plt.xlabel(\"Threshold\")\n",
        "plt.legend(loc=\"center right\")\n",
        "save_fig(\"precision_recall_vs_threshold_plot\")\n",
        "\n",
        "plt.show()"
      ],
      "metadata": {
        "colab": {
          "base_uri": "https://localhost:8080/",
          "height": 413
        },
        "id": "HOPj4tE13UK7",
        "outputId": "65404fdc-57db-409e-ecea-60d869692abf"
      },
      "execution_count": 42,
      "outputs": [
        {
          "output_type": "stream",
          "name": "stdout",
          "text": [
            "Saving figure precision_recall_vs_threshold_plot\n"
          ]
        },
        {
          "output_type": "display_data",
          "data": {
            "text/plain": [
              "<Figure size 800x400 with 1 Axes>"
            ],
            "image/png": "[encoded data removed]"
          },
          "metadata": {}
        }
      ]
    },
    {
      "cell_type": "code",
      "source": [
        "# Find the threshold for 90% precision\n",
        "idx_for_90_percent_precision = (precisions >= 0.90).argmax()\n",
        "threshold_for_90_percent_precision = thresholds[idx_for_90_percent_precision]\n",
        "# Display the threshold\n",
        "threshold_for_90_percent_precision"
      ],
      "metadata": {
        "colab": {
          "base_uri": "https://localhost:8080/"
        },
        "id": "nl9P-71f4nAH",
        "outputId": "e4091579-7d41-42ed-e0af-0c031ad6ee09"
      },
      "execution_count": 43,
      "outputs": [
        {
          "output_type": "execute_result",
          "data": {
            "text/plain": [
              "np.float64(3370.0194991439557)"
            ]
          },
          "metadata": {},
          "execution_count": 43
        }
      ]
    },
    {
      "cell_type": "code",
      "source": [
        "# Make predictions based on the 90% precision threshold\n",
        "y_train_pred_90 = (y_scores >= threshold_for_90_percent_precision)"
      ],
      "metadata": {
        "id": "Y1tYhJ_F433E"
      },
      "execution_count": 44,
      "outputs": []
    },
    {
      "cell_type": "code",
      "source": [
        "# Calculate and print the precision score for the 90% precision predictions\n",
        "precision_score(y_train_5, y_train_pred_90)"
      ],
      "metadata": {
        "colab": {
          "base_uri": "https://localhost:8080/"
        },
        "id": "L4JQCmSc48Ds",
        "outputId": "e1105447-32e7-4edd-ec23-00f97d8eca0f"
      },
      "execution_count": 45,
      "outputs": [
        {
          "output_type": "execute_result",
          "data": {
            "text/plain": [
              "0.9000345901072293"
            ]
          },
          "metadata": {},
          "execution_count": 45
        }
      ]
    },
    {
      "cell_type": "code",
      "source": [
        "# Calculate and print the recall score at 90% precision\n",
        "recall_at_90_precision = recall_score(y_train_5, y_train_pred_90)\n",
        "recall_at_90_precision\n",
        "#"
      ],
      "metadata": {
        "colab": {
          "base_uri": "https://localhost:8080/"
        },
        "id": "9CthvI-_5DJD",
        "outputId": "0c3c97ba-14ff-4c9b-a5d4-9eba223bcc03"
      },
      "execution_count": 46,
      "outputs": [
        {
          "output_type": "execute_result",
          "data": {
            "text/plain": [
              "0.4799852425751706"
            ]
          },
          "metadata": {},
          "execution_count": 46
        }
      ]
    },
    {
      "cell_type": "markdown",
      "source": [
        "#**The ROC Curve**"
      ],
      "metadata": {
        "id": "DMviPR_r5P1W"
      }
    },
    {
      "cell_type": "code",
      "source": [
        "# Import roc_curve from sklearn.metrics\n",
        "from sklearn.metrics import roc_curve\n",
        "\n",
        "# Calculate the False Positive Rate (fpr), True Positive Rate (tpr), and thresholds for the ROC curve\n",
        "fpr, tpr, thresholds = roc_curve(y_train_5, y_scores)"
      ],
      "metadata": {
        "id": "Y9LdvDWp5Uwz"
      },
      "execution_count": 47,
      "outputs": []
    },
    {
      "cell_type": "code",
      "source": [
        "# Import roc_curve from sklearn.metrics\n",
        "from sklearn.metrics import roc_curve\n",
        "import matplotlib.patches as patches # Import the patches module\n",
        "\n",
        "# Find the index of the threshold closest to the 90% precision threshold on the ROC curve\n",
        "idx_for_threshold_at_90 = (thresholds <= threshold_for_90_percent_precision).argmax()\n",
        "# Get the corresponding tpr and fpr values\n",
        "tpr_90, fpr_90 = tpr[idx_for_threshold_at_90], fpr[idx_for_threshold_at_90]\n",
        "\n",
        "# Plot the ROC curve\n",
        "plt.figure(figsize=(6, 5))\n",
        "plt.plot(fpr, tpr, linewidth=2, label=\"ROC curve \")\n",
        "# Plot the ROC curve for a random classifier\n",
        "plt.plot([0, 1], [0, 1], 'k:', label=\"Random classifier's ROC cure\")\n",
        "# Plot a point on the ROC curve corresponding to the 90% precision threshold\n",
        "plt.plot([fpr_90],[tpr_90], 'ko', label='threshold for 90% precision')\n",
        "\n",
        "# Add an arrow and text to indicate the direction of higher thresholds\n",
        "plt.gca().add_patch(patches.FancyArrowPatch(\n",
        "    (0.20, 0.89), (0.07, 0.70),\n",
        "    connectionstyle='arc3, rad=.4',\n",
        "    arrowstyle='simple, tail_width=1.5, head_width=8, head_length=10',\n",
        "    color='#444444'\n",
        "    ))\n",
        "\n",
        "plt.text(0.12, 0.71, \"Higher\\nthreshold\", color=\"#333333\")\n",
        "# Set axis labels and title\n",
        "plt.xlabel('False Positive Rate (Fall-Out)')\n",
        "plt.ylabel('True Positive Rate (Recall)')\n",
        "plt.grid()\n",
        "plt.axis([0, 1, 0, 1])\n",
        "plt.legend(loc=\"lower right\", fontsize=13)\n",
        "# Save the figure\n",
        "save_fig(\"roc_curve_plot\")\n",
        "\n",
        "plt.show()"
      ],
      "metadata": {
        "colab": {
          "base_uri": "https://localhost:8080/",
          "height": 512
        },
        "id": "HkD5o1U15gbl",
        "outputId": "d63b2b52-8106-467f-d35e-04b01a84f7eb"
      },
      "execution_count": 48,
      "outputs": [
        {
          "output_type": "stream",
          "name": "stdout",
          "text": [
            "Saving figure roc_curve_plot\n"
          ]
        },
        {
          "output_type": "display_data",
          "data": {
            "text/plain": [
              "<Figure size 600x500 with 1 Axes>"
            ],
            "image/png": "[encoded data removed]"
          },
          "metadata": {}
        }
      ]
    },
    {
      "cell_type": "code",
      "source": [
        "# Import roc_auc_score from sklearn.metrics\n",
        "from sklearn.metrics import roc_auc_score\n",
        "\n",
        "# Calculate and print the ROC AUC score\n",
        "roc_auc_score(y_train_5, y_scores)"
      ],
      "metadata": {
        "colab": {
          "base_uri": "https://localhost:8080/"
        },
        "id": "TNPIWYcS716w",
        "outputId": "904dca29-9c97-4638-83e8-e1aedd6ee36c"
      },
      "execution_count": 49,
      "outputs": [
        {
          "output_type": "execute_result",
          "data": {
            "text/plain": [
              "np.float64(0.9604938554008616)"
            ]
          },
          "metadata": {},
          "execution_count": 49
        }
      ]
    },
    {
      "cell_type": "code",
      "source": [
        "# Import RandomForestClassifier from sklearn.ensemble\n",
        "from sklearn.ensemble import RandomForestClassifier\n",
        "\n",
        "# Create an instance of RandomForestClassifier with a random state\n",
        "forest_clf = RandomForestClassifier(random_state=42)"
      ],
      "metadata": {
        "id": "T6EH30Dh73Dx"
      },
      "execution_count": 50,
      "outputs": []
    },
    {
      "cell_type": "code",
      "source": [
        "# Get the estimated probabilities for the training set using cross-validation\n",
        "y_probas_forest = cross_val_predict(forest_clf, X_train, y_train_5, cv=3, method='predict_proba')"
      ],
      "metadata": {
        "id": "lzbzSA7D73Al"
      },
      "execution_count": 51,
      "outputs": []
    },
    {
      "cell_type": "code",
      "source": [
        "# Display the first two probability estimates\n",
        "y_probas_forest[:2]"
      ],
      "metadata": {
        "colab": {
          "base_uri": "https://localhost:8080/"
        },
        "id": "Q9KdNCYM721E",
        "outputId": "04bdb9c3-27cc-4bcd-b603-cfc4c829fcb1"
      },
      "execution_count": 52,
      "outputs": [
        {
          "output_type": "execute_result",
          "data": {
            "text/plain": [
              "array([[0.11, 0.89],\n",
              "       [0.99, 0.01]])"
            ]
          },
          "metadata": {},
          "execution_count": 52
        }
      ]
    },
    {
      "cell_type": "markdown",
      "source": [
        "*These are estimated probabilities. Among the images that the model classified as positive with a probability between 50% and 60%, there are actually about 94% positive images:*"
      ],
      "metadata": {
        "id": "_CurKVGh8Q9e"
      }
    },
    {
      "cell_type": "code",
      "source": [
        "# Calculate the percentage of positive samples among those predicted with a probability between 0.5 and 0.6\n",
        "idx_50_to_60 = (y_probas_forest[:,1] > 0.50 ) & (y_probas_forest[:,1] < 0.60)\n",
        "print(f\"{(y_train_5[idx_50_to_60]).sum() / idx_50_to_60.sum():.1%}\")"
      ],
      "metadata": {
        "colab": {
          "base_uri": "https://localhost:8080/"
        },
        "id": "DAhAcW9672ye",
        "outputId": "b41be093-ef65-4e9e-da90-c390f057d232"
      },
      "execution_count": 53,
      "outputs": [
        {
          "output_type": "stream",
          "name": "stdout",
          "text": [
            "94.0%\n"
          ]
        }
      ]
    },
    {
      "cell_type": "code",
      "source": [
        "# Get the probability estimates for the positive class\n",
        "y_scores_forest = y_probas_forest[:,1]\n",
        "# Calculate precision, recall, and thresholds for the Random Forest classifier\n",
        "precision_forest, recalls_forest, thresholds_forest = precision_recall_curve(y_train_5, y_scores_forest)"
      ],
      "metadata": {
        "id": "34PsiY0772vk"
      },
      "execution_count": 54,
      "outputs": []
    },
    {
      "cell_type": "code",
      "source": [
        "# Plot the precision-recall curve for the Random Forest classifier and compare it to the SGD classifier\n",
        "plt.figure(figsize=(6, 5))\n",
        "plt.plot(recalls_forest, precision_forest, 'b-', linewidth=2,\n",
        "         label='Random Forest')\n",
        "plt.plot(recalls, precisions, '--', linewidth=2,\n",
        "         label='SGD')\n",
        "plt.grid()\n",
        "\n",
        "# extra code – just beautifies and saves Figure 3–8\n",
        "plt.xlabel(\"Recall\")\n",
        "plt.ylabel(\"Precision\")\n",
        "plt.axis([0, 1, 0, 1])\n",
        "plt.grid()\n",
        "plt.legend(loc=\"lower left\")\n",
        "save_fig(\"pr_curve_comparison_plot\")\n",
        "\n",
        "plt.show()"
      ],
      "metadata": {
        "colab": {
          "base_uri": "https://localhost:8080/",
          "height": 512
        },
        "id": "2x-8x29F72sg",
        "outputId": "03cbbf0b-a68c-425c-866b-5d8f308db67b"
      },
      "execution_count": 55,
      "outputs": [
        {
          "output_type": "stream",
          "name": "stdout",
          "text": [
            "Saving figure pr_curve_comparison_plot\n"
          ]
        },
        {
          "output_type": "display_data",
          "data": {
            "text/plain": [
              "<Figure size 600x500 with 1 Axes>"
            ],
            "image/png": "[encoded data removed]"
          },
          "metadata": {}
        }
      ]
    },
    {
      "cell_type": "code",
      "source": [
        "# Import f1_score from sklearn.metrics\n",
        "from sklearn.metrics import f1_score\n",
        "\n",
        "# Make predictions for the Random Forest classifier with a threshold of 0.5\n",
        "y_train_pred_forest = y_probas_forest[:, 1] >= 0.5\n",
        "# Calculate and print the F1 score for the Random Forest classifier\n",
        "f1_score(y_train_5, y_train_pred_forest)"
      ],
      "metadata": {
        "colab": {
          "base_uri": "https://localhost:8080/"
        },
        "id": "0D16MT399_W1",
        "outputId": "a10fbc03-c5c8-48a5-cb9f-97b82dd2cf9d"
      },
      "execution_count": 56,
      "outputs": [
        {
          "output_type": "execute_result",
          "data": {
            "text/plain": [
              "0.9274509803921569"
            ]
          },
          "metadata": {},
          "execution_count": 56
        }
      ]
    },
    {
      "cell_type": "code",
      "source": [
        "# Calculate and print the ROC AUC score for the Random Forest classifier\n",
        "roc_auc_score(y_train_5, y_scores_forest)\n",
        "#"
      ],
      "metadata": {
        "colab": {
          "base_uri": "https://localhost:8080/"
        },
        "id": "8q_1C60u-aw2",
        "outputId": "36e54f84-0773-415c-d1e8-74cbe957fc01"
      },
      "execution_count": 57,
      "outputs": [
        {
          "output_type": "execute_result",
          "data": {
            "text/plain": [
              "np.float64(0.9983436731328145)"
            ]
          },
          "metadata": {},
          "execution_count": 57
        }
      ]
    },
    {
      "cell_type": "code",
      "source": [
        "# Calculate and print the precision score for the Random Forest classifier\n",
        "precision_score(y_train_5, y_train_pred_forest)"
      ],
      "metadata": {
        "colab": {
          "base_uri": "https://localhost:8080/"
        },
        "id": "db8k2O0M-ehD",
        "outputId": "f899162d-495b-4708-dc17-6c640ec9ac10"
      },
      "execution_count": 58,
      "outputs": [
        {
          "output_type": "execute_result",
          "data": {
            "text/plain": [
              "0.9897468089558485"
            ]
          },
          "metadata": {},
          "execution_count": 58
        }
      ]
    },
    {
      "cell_type": "code",
      "source": [
        "# Calculate and print the recall score for the Random Forest classifier\n",
        "recall_score(y_train_5, y_train_pred_forest)"
      ],
      "metadata": {
        "colab": {
          "base_uri": "https://localhost:8080/"
        },
        "id": "AbDcBz3D-iPm",
        "outputId": "682b610d-23dd-4d38-e888-34f9f90d446c"
      },
      "execution_count": 59,
      "outputs": [
        {
          "output_type": "execute_result",
          "data": {
            "text/plain": [
              "0.8725327430363402"
            ]
          },
          "metadata": {},
          "execution_count": 59
        }
      ]
    },
    {
      "cell_type": "markdown",
      "source": [
        "#**Multiclass Classification**"
      ],
      "metadata": {
        "id": "pIj6UwxCB5PE"
      }
    },
    {
      "cell_type": "code",
      "source": [
        "from sklearn.svm import SVC\n",
        "\n",
        "# Create an SVC classifier instance with a random state for reproducibility\n",
        "svm_clf = SVC(random_state=42)\n",
        "# Train the SVC classifier on the first 2000 samples of the training data\n",
        "svm_clf.fit(X_train[:2000], y_train[:2000])"
      ],
      "metadata": {
        "colab": {
          "base_uri": "https://localhost:8080/",
          "height": 80
        },
        "id": "TmcIv1DJB-Qo",
        "outputId": "865c843e-74e5-4d9c-9955-21a9d632e502"
      },
      "execution_count": 60,
      "outputs": [
        {
          "output_type": "execute_result",
          "data": {
            "text/plain": [
              "SVC(random_state=42)"
            ],
            "text/html": [
              "<style>#sk-container-id-2 {\n",
              "  /* Definition of color scheme common for light and dark mode */\n",
              "  --sklearn-color-text: #000;\n",
              "  --sklearn-color-text-muted: #666;\n",
              "  --sklearn-color-line: gray;\n",
              "  /* Definition of color scheme for unfitted estimators */\n",
              "  --sklearn-color-unfitted-level-0: #fff5e6;\n",
              "  --sklearn-color-unfitted-level-1: #f6e4d2;\n",
              "  --sklearn-color-unfitted-level-2: #ffe0b3;\n",
              "  --sklearn-color-unfitted-level-3: chocolate;\n",
              "  /* Definition of color scheme for fitted estimators */\n",
              "  --sklearn-color-fitted-level-0: #f0f8ff;\n",
              "  --sklearn-color-fitted-level-1: #d4ebff;\n",
              "  --sklearn-color-fitted-level-2: #b3dbfd;\n",
              "  --sklearn-color-fitted-level-3: cornflowerblue;\n",
              "\n",
              "  /* Specific color for light theme */\n",
              "  --sklearn-color-text-on-default-background: var(--sg-text-color, var(--theme-code-foreground, var(--jp-content-font-color1, black)));\n",
              "  --sklearn-color-background: var(--sg-background-color, var(--theme-background, var(--jp-layout-color0, white)));\n",
              "  --sklearn-color-border-box: var(--sg-text-color, var(--theme-code-foreground, var(--jp-content-font-color1, black)));\n",
              "  --sklearn-color-icon: #696969;\n",
              "\n",
              "  @media (prefers-color-scheme: dark) {\n",
              "    /* Redefinition of color scheme for dark theme */\n",
              "    --sklearn-color-text-on-default-background: var(--sg-text-color, var(--theme-code-foreground, var(--jp-content-font-color1, white)));\n",
              "    --sklearn-color-background: var(--sg-background-color, var(--theme-background, var(--jp-layout-color0, #111)));\n",
              "    --sklearn-color-border-box: var(--sg-text-color, var(--theme-code-foreground, var(--jp-content-font-color1, white)));\n",
              "    --sklearn-color-icon: #878787;\n",
              "  }\n",
              "}\n",
              "\n",
              "#sk-container-id-2 {\n",
              "  color: var(--sklearn-color-text);\n",
              "}\n",
              "\n",
              "#sk-container-id-2 pre {\n",
              "  padding: 0;\n",
              "}\n",
              "\n",
              "#sk-container-id-2 input.sk-hidden--visually {\n",
              "  border: 0;\n",
              "  clip: rect(1px 1px 1px 1px);\n",
              "  clip: rect(1px, 1px, 1px, 1px);\n",
              "  height: 1px;\n",
              "  margin: -1px;\n",
              "  overflow: hidden;\n",
              "  padding: 0;\n",
              "  position: absolute;\n",
              "  width: 1px;\n",
              "}\n",
              "\n",
              "#sk-container-id-2 div.sk-dashed-wrapped {\n",
              "  border: 1px dashed var(--sklearn-color-line);\n",
              "  margin: 0 0.4em 0.5em 0.4em;\n",
              "  box-sizing: border-box;\n",
              "  padding-bottom: 0.4em;\n",
              "  background-color: var(--sklearn-color-background);\n",
              "}\n",
              "\n",
              "#sk-container-id-2 div.sk-container {\n",
              "  /* jupyter's `normalize.less` sets `[hidden] { display: none; }`\n",
              "     but bootstrap.min.css set `[hidden] { display: none !important; }`\n",
              "     so we also need the `!important` here to be able to override the\n",
              "     default hidden behavior on the sphinx rendered scikit-learn.org.\n",
              "     See: https://github.com/scikit-learn/scikit-learn/issues/21755 */\n",
              "  display: inline-block !important;\n",
              "  position: relative;\n",
              "}\n",
              "\n",
              "#sk-container-id-2 div.sk-text-repr-fallback {\n",
              "  display: none;\n",
              "}\n",
              "\n",
              "div.sk-parallel-item,\n",
              "div.sk-serial,\n",
              "div.sk-item {\n",
              "  /* draw centered vertical line to link estimators */\n",
              "  background-image: linear-gradient(var(--sklearn-color-text-on-default-background), var(--sklearn-color-text-on-default-background));\n",
              "  background-size: 2px 100%;\n",
              "  background-repeat: no-repeat;\n",
              "  background-position: center center;\n",
              "}\n",
              "\n",
              "/* Parallel-specific style estimator block */\n",
              "\n",
              "#sk-container-id-2 div.sk-parallel-item::after {\n",
              "  content: \"\";\n",
              "  width: 100%;\n",
              "  border-bottom: 2px solid var(--sklearn-color-text-on-default-background);\n",
              "  flex-grow: 1;\n",
              "}\n",
              "\n",
              "#sk-container-id-2 div.sk-parallel {\n",
              "  display: flex;\n",
              "  align-items: stretch;\n",
              "  justify-content: center;\n",
              "  background-color: var(--sklearn-color-background);\n",
              "  position: relative;\n",
              "}\n",
              "\n",
              "#sk-container-id-2 div.sk-parallel-item {\n",
              "  display: flex;\n",
              "  flex-direction: column;\n",
              "}\n",
              "\n",
              "#sk-container-id-2 div.sk-parallel-item:first-child::after {\n",
              "  align-self: flex-end;\n",
              "  width: 50%;\n",
              "}\n",
              "\n",
              "#sk-container-id-2 div.sk-parallel-item:last-child::after {\n",
              "  align-self: flex-start;\n",
              "  width: 50%;\n",
              "}\n",
              "\n",
              "#sk-container-id-2 div.sk-parallel-item:only-child::after {\n",
              "  width: 0;\n",
              "}\n",
              "\n",
              "/* Serial-specific style estimator block */\n",
              "\n",
              "#sk-container-id-2 div.sk-serial {\n",
              "  display: flex;\n",
              "  flex-direction: column;\n",
              "  align-items: center;\n",
              "  background-color: var(--sklearn-color-background);\n",
              "  padding-right: 1em;\n",
              "  padding-left: 1em;\n",
              "}\n",
              "\n",
              "\n",
              "/* Toggleable style: style used for estimator/Pipeline/ColumnTransformer box that is\n",
              "clickable and can be expanded/collapsed.\n",
              "- Pipeline and ColumnTransformer use this feature and define the default style\n",
              "- Estimators will overwrite some part of the style using the `sk-estimator` class\n",
              "*/\n",
              "\n",
              "/* Pipeline and ColumnTransformer style (default) */\n",
              "\n",
              "#sk-container-id-2 div.sk-toggleable {\n",
              "  /* Default theme specific background. It is overwritten whether we have a\n",
              "  specific estimator or a Pipeline/ColumnTransformer */\n",
              "  background-color: var(--sklearn-color-background);\n",
              "}\n",
              "\n",
              "/* Toggleable label */\n",
              "#sk-container-id-2 label.sk-toggleable__label {\n",
              "  cursor: pointer;\n",
              "  display: flex;\n",
              "  width: 100%;\n",
              "  margin-bottom: 0;\n",
              "  padding: 0.5em;\n",
              "  box-sizing: border-box;\n",
              "  text-align: center;\n",
              "  align-items: start;\n",
              "  justify-content: space-between;\n",
              "  gap: 0.5em;\n",
              "}\n",
              "\n",
              "#sk-container-id-2 label.sk-toggleable__label .caption {\n",
              "  font-size: 0.6rem;\n",
              "  font-weight: lighter;\n",
              "  color: var(--sklearn-color-text-muted);\n",
              "}\n",
              "\n",
              "#sk-container-id-2 label.sk-toggleable__label-arrow:before {\n",
              "  /* Arrow on the left of the label */\n",
              "  content: \"▸\";\n",
              "  float: left;\n",
              "  margin-right: 0.25em;\n",
              "  color: var(--sklearn-color-icon);\n",
              "}\n",
              "\n",
              "#sk-container-id-2 label.sk-toggleable__label-arrow:hover:before {\n",
              "  color: var(--sklearn-color-text);\n",
              "}\n",
              "\n",
              "/* Toggleable content - dropdown */\n",
              "\n",
              "#sk-container-id-2 div.sk-toggleable__content {\n",
              "  max-height: 0;\n",
              "  max-width: 0;\n",
              "  overflow: hidden;\n",
              "  text-align: left;\n",
              "  /* unfitted */\n",
              "  background-color: var(--sklearn-color-unfitted-level-0);\n",
              "}\n",
              "\n",
              "#sk-container-id-2 div.sk-toggleable__content.fitted {\n",
              "  /* fitted */\n",
              "  background-color: var(--sklearn-color-fitted-level-0);\n",
              "}\n",
              "\n",
              "#sk-container-id-2 div.sk-toggleable__content pre {\n",
              "  margin: 0.2em;\n",
              "  border-radius: 0.25em;\n",
              "  color: var(--sklearn-color-text);\n",
              "  /* unfitted */\n",
              "  background-color: var(--sklearn-color-unfitted-level-0);\n",
              "}\n",
              "\n",
              "#sk-container-id-2 div.sk-toggleable__content.fitted pre {\n",
              "  /* unfitted */\n",
              "  background-color: var(--sklearn-color-fitted-level-0);\n",
              "}\n",
              "\n",
              "#sk-container-id-2 input.sk-toggleable__control:checked~div.sk-toggleable__content {\n",
              "  /* Expand drop-down */\n",
              "  max-height: 200px;\n",
              "  max-width: 100%;\n",
              "  overflow: auto;\n",
              "}\n",
              "\n",
              "#sk-container-id-2 input.sk-toggleable__control:checked~label.sk-toggleable__label-arrow:before {\n",
              "  content: \"▾\";\n",
              "}\n",
              "\n",
              "/* Pipeline/ColumnTransformer-specific style */\n",
              "\n",
              "#sk-container-id-2 div.sk-label input.sk-toggleable__control:checked~label.sk-toggleable__label {\n",
              "  color: var(--sklearn-color-text);\n",
              "  background-color: var(--sklearn-color-unfitted-level-2);\n",
              "}\n",
              "\n",
              "#sk-container-id-2 div.sk-label.fitted input.sk-toggleable__control:checked~label.sk-toggleable__label {\n",
              "  background-color: var(--sklearn-color-fitted-level-2);\n",
              "}\n",
              "\n",
              "/* Estimator-specific style */\n",
              "\n",
              "/* Colorize estimator box */\n",
              "#sk-container-id-2 div.sk-estimator input.sk-toggleable__control:checked~label.sk-toggleable__label {\n",
              "  /* unfitted */\n",
              "  background-color: var(--sklearn-color-unfitted-level-2);\n",
              "}\n",
              "\n",
              "#sk-container-id-2 div.sk-estimator.fitted input.sk-toggleable__control:checked~label.sk-toggleable__label {\n",
              "  /* fitted */\n",
              "  background-color: var(--sklearn-color-fitted-level-2);\n",
              "}\n",
              "\n",
              "#sk-container-id-2 div.sk-label label.sk-toggleable__label,\n",
              "#sk-container-id-2 div.sk-label label {\n",
              "  /* The background is the default theme color */\n",
              "  color: var(--sklearn-color-text-on-default-background);\n",
              "}\n",
              "\n",
              "/* On hover, darken the color of the background */\n",
              "#sk-container-id-2 div.sk-label:hover label.sk-toggleable__label {\n",
              "  color: var(--sklearn-color-text);\n",
              "  background-color: var(--sklearn-color-unfitted-level-2);\n",
              "}\n",
              "\n",
              "/* Label box, darken color on hover, fitted */\n",
              "#sk-container-id-2 div.sk-label.fitted:hover label.sk-toggleable__label.fitted {\n",
              "  color: var(--sklearn-color-text);\n",
              "  background-color: var(--sklearn-color-fitted-level-2);\n",
              "}\n",
              "\n",
              "/* Estimator label */\n",
              "\n",
              "#sk-container-id-2 div.sk-label label {\n",
              "  font-family: monospace;\n",
              "  font-weight: bold;\n",
              "  display: inline-block;\n",
              "  line-height: 1.2em;\n",
              "}\n",
              "\n",
              "#sk-container-id-2 div.sk-label-container {\n",
              "  text-align: center;\n",
              "}\n",
              "\n",
              "/* Estimator-specific */\n",
              "#sk-container-id-2 div.sk-estimator {\n",
              "  font-family: monospace;\n",
              "  border: 1px dotted var(--sklearn-color-border-box);\n",
              "  border-radius: 0.25em;\n",
              "  box-sizing: border-box;\n",
              "  margin-bottom: 0.5em;\n",
              "  /* unfitted */\n",
              "  background-color: var(--sklearn-color-unfitted-level-0);\n",
              "}\n",
              "\n",
              "#sk-container-id-2 div.sk-estimator.fitted {\n",
              "  /* fitted */\n",
              "  background-color: var(--sklearn-color-fitted-level-0);\n",
              "}\n",
              "\n",
              "/* on hover */\n",
              "#sk-container-id-2 div.sk-estimator:hover {\n",
              "  /* unfitted */\n",
              "  background-color: var(--sklearn-color-unfitted-level-2);\n",
              "}\n",
              "\n",
              "#sk-container-id-2 div.sk-estimator.fitted:hover {\n",
              "  /* fitted */\n",
              "  background-color: var(--sklearn-color-fitted-level-2);\n",
              "}\n",
              "\n",
              "/* Specification for estimator info (e.g. \"i\" and \"?\") */\n",
              "\n",
              "/* Common style for \"i\" and \"?\" */\n",
              "\n",
              ".sk-estimator-doc-link,\n",
              "a:link.sk-estimator-doc-link,\n",
              "a:visited.sk-estimator-doc-link {\n",
              "  float: right;\n",
              "  font-size: smaller;\n",
              "  line-height: 1em;\n",
              "  font-family: monospace;\n",
              "  background-color: var(--sklearn-color-background);\n",
              "  border-radius: 1em;\n",
              "  height: 1em;\n",
              "  width: 1em;\n",
              "  text-decoration: none !important;\n",
              "  margin-left: 0.5em;\n",
              "  text-align: center;\n",
              "  /* unfitted */\n",
              "  border: var(--sklearn-color-unfitted-level-1) 1pt solid;\n",
              "  color: var(--sklearn-color-unfitted-level-1);\n",
              "}\n",
              "\n",
              ".sk-estimator-doc-link.fitted,\n",
              "a:link.sk-estimator-doc-link.fitted,\n",
              "a:visited.sk-estimator-doc-link.fitted {\n",
              "  /* fitted */\n",
              "  border: var(--sklearn-color-fitted-level-1) 1pt solid;\n",
              "  color: var(--sklearn-color-fitted-level-1);\n",
              "}\n",
              "\n",
              "/* On hover */\n",
              "div.sk-estimator:hover .sk-estimator-doc-link:hover,\n",
              ".sk-estimator-doc-link:hover,\n",
              "div.sk-label-container:hover .sk-estimator-doc-link:hover,\n",
              ".sk-estimator-doc-link:hover {\n",
              "  /* unfitted */\n",
              "  background-color: var(--sklearn-color-unfitted-level-3);\n",
              "  color: var(--sklearn-color-background);\n",
              "  text-decoration: none;\n",
              "}\n",
              "\n",
              "div.sk-estimator.fitted:hover .sk-estimator-doc-link.fitted:hover,\n",
              ".sk-estimator-doc-link.fitted:hover,\n",
              "div.sk-label-container:hover .sk-estimator-doc-link.fitted:hover,\n",
              ".sk-estimator-doc-link.fitted:hover {\n",
              "  /* fitted */\n",
              "  background-color: var(--sklearn-color-fitted-level-3);\n",
              "  color: var(--sklearn-color-background);\n",
              "  text-decoration: none;\n",
              "}\n",
              "\n",
              "/* Span, style for the box shown on hovering the info icon */\n",
              ".sk-estimator-doc-link span {\n",
              "  display: none;\n",
              "  z-index: 9999;\n",
              "  position: relative;\n",
              "  font-weight: normal;\n",
              "  right: .2ex;\n",
              "  padding: .5ex;\n",
              "  margin: .5ex;\n",
              "  width: min-content;\n",
              "  min-width: 20ex;\n",
              "  max-width: 50ex;\n",
              "  color: var(--sklearn-color-text);\n",
              "  box-shadow: 2pt 2pt 4pt #999;\n",
              "  /* unfitted */\n",
              "  background: var(--sklearn-color-unfitted-level-0);\n",
              "  border: .5pt solid var(--sklearn-color-unfitted-level-3);\n",
              "}\n",
              "\n",
              ".sk-estimator-doc-link.fitted span {\n",
              "  /* fitted */\n",
              "  background: var(--sklearn-color-fitted-level-0);\n",
              "  border: var(--sklearn-color-fitted-level-3);\n",
              "}\n",
              "\n",
              ".sk-estimator-doc-link:hover span {\n",
              "  display: block;\n",
              "}\n",
              "\n",
              "/* \"?\"-specific style due to the `<a>` HTML tag */\n",
              "\n",
              "#sk-container-id-2 a.estimator_doc_link {\n",
              "  float: right;\n",
              "  font-size: 1rem;\n",
              "  line-height: 1em;\n",
              "  font-family: monospace;\n",
              "  background-color: var(--sklearn-color-background);\n",
              "  border-radius: 1rem;\n",
              "  height: 1rem;\n",
              "  width: 1rem;\n",
              "  text-decoration: none;\n",
              "  /* unfitted */\n",
              "  color: var(--sklearn-color-unfitted-level-1);\n",
              "  border: var(--sklearn-color-unfitted-level-1) 1pt solid;\n",
              "}\n",
              "\n",
              "#sk-container-id-2 a.estimator_doc_link.fitted {\n",
              "  /* fitted */\n",
              "  border: var(--sklearn-color-fitted-level-1) 1pt solid;\n",
              "  color: var(--sklearn-color-fitted-level-1);\n",
              "}\n",
              "\n",
              "/* On hover */\n",
              "#sk-container-id-2 a.estimator_doc_link:hover {\n",
              "  /* unfitted */\n",
              "  background-color: var(--sklearn-color-unfitted-level-3);\n",
              "  color: var(--sklearn-color-background);\n",
              "  text-decoration: none;\n",
              "}\n",
              "\n",
              "#sk-container-id-2 a.estimator_doc_link.fitted:hover {\n",
              "  /* fitted */\n",
              "  background-color: var(--sklearn-color-fitted-level-3);\n",
              "}\n",
              "</style><div id=\"sk-container-id-2\" class=\"sk-top-container\"><div class=\"sk-text-repr-fallback\"><pre>SVC(random_state=42)</pre><b>In a Jupyter environment, please rerun this cell to show the HTML representation or trust the notebook. <br />On GitHub, the HTML representation is unable to render, please try loading this page with nbviewer.org.</b></div><div class=\"sk-container\" hidden><div class=\"sk-item\"><div class=\"sk-estimator fitted sk-toggleable\"><input class=\"sk-toggleable__control sk-hidden--visually\" id=\"sk-estimator-id-2\" type=\"checkbox\" checked><label for=\"sk-estimator-id-2\" class=\"sk-toggleable__label fitted sk-toggleable__label-arrow\"><div><div>SVC</div></div><div><a class=\"sk-estimator-doc-link fitted\" rel=\"noreferrer\" target=\"_blank\" href=\"https://scikit-learn.org/1.6/modules/generated/sklearn.svm.SVC.html\">?<span>Documentation for SVC</span></a><span class=\"sk-estimator-doc-link fitted\">i<span>Fitted</span></span></div></label><div class=\"sk-toggleable__content fitted\"><pre>SVC(random_state=42)</pre></div> </div></div></div></div>"
            ]
          },
          "metadata": {},
          "execution_count": 60
        }
      ]
    },
    {
      "cell_type": "code",
      "source": [
        "# Use the trained SVC classifier to predict the digit of the first sample\n",
        "svm_clf.predict([some_digit])"
      ],
      "metadata": {
        "colab": {
          "base_uri": "https://localhost:8080/"
        },
        "id": "QxWRmpAiCSUk",
        "outputId": "913c9662-80b2-4e4e-fc8b-7eb0c976a82d"
      },
      "execution_count": 61,
      "outputs": [
        {
          "output_type": "execute_result",
          "data": {
            "text/plain": [
              "array(['5'], dtype=object)"
            ]
          },
          "metadata": {},
          "execution_count": 61
        }
      ]
    },
    {
      "cell_type": "code",
      "source": [
        "# Get the decision function scores for the first digit using the trained SVC classifier\n",
        "some_digit_scores = svm_clf.decision_function([some_digit])\n",
        "# Round the scores to 2 decimal places for better readability\n",
        "some_digit_scores.round(2)"
      ],
      "metadata": {
        "colab": {
          "base_uri": "https://localhost:8080/"
        },
        "id": "aozPTM0VC4dp",
        "outputId": "d6b64bee-7ad6-4e37-9164-0087f296abc0"
      },
      "execution_count": 62,
      "outputs": [
        {
          "output_type": "execute_result",
          "data": {
            "text/plain": [
              "array([[ 1.73,  2.73,  7.25,  8.31, -0.31,  9.31,  1.71,  2.77,  6.23,\n",
              "         4.85]])"
            ]
          },
          "metadata": {},
          "execution_count": 62
        }
      ]
    },
    {
      "cell_type": "code",
      "source": [
        "# Find the index of the class with the highest decision function score\n",
        "class_id = some_digit_scores.argmax()\n",
        "# Display the class index\n",
        "class_id"
      ],
      "metadata": {
        "colab": {
          "base_uri": "https://localhost:8080/"
        },
        "id": "yHnPqoUIDA6-",
        "outputId": "843f43ee-e224-43fb-e4d6-87430fd6b242"
      },
      "execution_count": 64,
      "outputs": [
        {
          "output_type": "execute_result",
          "data": {
            "text/plain": [
              "np.int64(5)"
            ]
          },
          "metadata": {},
          "execution_count": 64
        }
      ]
    },
    {
      "cell_type": "code",
      "source": [
        "# Get the list of classes the SVC classifier was trained on\n",
        "svm_clf.classes_"
      ],
      "metadata": {
        "colab": {
          "base_uri": "https://localhost:8080/"
        },
        "id": "kJ85PyD1DJXn",
        "outputId": "665f16c0-90db-49b9-9b57-ae5172d17df1"
      },
      "execution_count": 63,
      "outputs": [
        {
          "output_type": "execute_result",
          "data": {
            "text/plain": [
              "array(['0', '1', '2', '3', '4', '5', '6', '7', '8', '9'], dtype=object)"
            ]
          },
          "metadata": {},
          "execution_count": 63
        }
      ]
    },
    {
      "cell_type": "code",
      "source": [
        "# Get the predicted class label using the class index found earlier\n",
        "svm_clf.classes_[class_id]"
      ],
      "metadata": {
        "colab": {
          "base_uri": "https://localhost:8080/",
          "height": 36
        },
        "id": "cy961NAHDNHK",
        "outputId": "dfdb3708-45ee-4f66-9a23-9b13cdcfd177"
      },
      "execution_count": 65,
      "outputs": [
        {
          "output_type": "execute_result",
          "data": {
            "text/plain": [
              "'5'"
            ],
            "application/vnd.google.colaboratory.intrinsic+json": {
              "type": "string"
            }
          },
          "metadata": {},
          "execution_count": 65
        }
      ]
    },
    {
      "cell_type": "code",
      "source": [
        "# Set the decision function shape to \"ovo\" (One-vs-One)\n",
        "svm_clf.decision_function_shape = \"ovo\"\n",
        "# Get the decision function scores for the first digit using the One-vs-One approach\n",
        "some_digit_scores_ovo = svm_clf.decision_function([some_digit])\n",
        "# Round the scores to 2 decimal places\n",
        "some_digit_scores_ovo.round(2)"
      ],
      "metadata": {
        "colab": {
          "base_uri": "https://localhost:8080/"
        },
        "id": "Ro6aEAZ9DWZX",
        "outputId": "87fda1cd-4dd2-4e9b-d607-5586aad96db8"
      },
      "execution_count": 66,
      "outputs": [
        {
          "output_type": "execute_result",
          "data": {
            "text/plain": [
              "array([[ 0.18, -1.43, -1.34,  0.61, -1.53, -0.01, -0.26, -0.43, -0.5 ,\n",
              "        -0.17, -1.63,  0.7 , -1.82,  0.04,  0.02, -1.  , -0.39, -0.81,\n",
              "         1.26, -1.  ,  0.87,  0.53,  0.2 ,  0.38,  2.35, -1.  ,  1.44,\n",
              "         1.9 ,  1.48,  2.02, -2.4 , -0.74, -1.32, -2.01, -2.43,  2.75,\n",
              "         1.27,  1.82,  2.01, -0.6 , -1.09, -0.68, -0.62, -0.15,  0.59]])"
            ]
          },
          "metadata": {},
          "execution_count": 66
        }
      ]
    },
    {
      "cell_type": "code",
      "source": [
        "# Import the OneVsRestClassifier from sklearn.multiclass\n",
        "from sklearn.multiclass import OneVsRestClassifier"
      ],
      "metadata": {
        "id": "1e4ENifSDqKJ"
      },
      "execution_count": 67,
      "outputs": []
    },
    {
      "cell_type": "code",
      "source": [
        "# Create a OneVsRestClassifier with an SVC base estimator\n",
        "ovr_clf = OneVsRestClassifier(SVC(random_state=42))\n",
        "# Train the OneVsRestClassifier on the first 2000 samples of the training data\n",
        "ovr_clf.fit(X_train[:2000], y_train[:2000])"
      ],
      "metadata": {
        "colab": {
          "base_uri": "https://localhost:8080/",
          "height": 217
        },
        "id": "NlmHzeh5Dvu6",
        "outputId": "8c2b1a68-ebd6-4a76-f8cf-6e844b9767f8"
      },
      "execution_count": 68,
      "outputs": [
        {
          "output_type": "execute_result",
          "data": {
            "text/plain": [
              "OneVsRestClassifier(estimator=SVC(random_state=42))"
            ],
            "text/html": [
              "<style>#sk-container-id-3 {\n",
              "  /* Definition of color scheme common for light and dark mode */\n",
              "  --sklearn-color-text: #000;\n",
              "  --sklearn-color-text-muted: #666;\n",
              "  --sklearn-color-line: gray;\n",
              "  /* Definition of color scheme for unfitted estimators */\n",
              "  --sklearn-color-unfitted-level-0: #fff5e6;\n",
              "  --sklearn-color-unfitted-level-1: #f6e4d2;\n",
              "  --sklearn-color-unfitted-level-2: #ffe0b3;\n",
              "  --sklearn-color-unfitted-level-3: chocolate;\n",
              "  /* Definition of color scheme for fitted estimators */\n",
              "  --sklearn-color-fitted-level-0: #f0f8ff;\n",
              "  --sklearn-color-fitted-level-1: #d4ebff;\n",
              "  --sklearn-color-fitted-level-2: #b3dbfd;\n",
              "  --sklearn-color-fitted-level-3: cornflowerblue;\n",
              "\n",
              "  /* Specific color for light theme */\n",
              "  --sklearn-color-text-on-default-background: var(--sg-text-color, var(--theme-code-foreground, var(--jp-content-font-color1, black)));\n",
              "  --sklearn-color-background: var(--sg-background-color, var(--theme-background, var(--jp-layout-color0, white)));\n",
              "  --sklearn-color-border-box: var(--sg-text-color, var(--theme-code-foreground, var(--jp-content-font-color1, black)));\n",
              "  --sklearn-color-icon: #696969;\n",
              "\n",
              "  @media (prefers-color-scheme: dark) {\n",
              "    /* Redefinition of color scheme for dark theme */\n",
              "    --sklearn-color-text-on-default-background: var(--sg-text-color, var(--theme-code-foreground, var(--jp-content-font-color1, white)));\n",
              "    --sklearn-color-background: var(--sg-background-color, var(--theme-background, var(--jp-layout-color0, #111)));\n",
              "    --sklearn-color-border-box: var(--sg-text-color, var(--theme-code-foreground, var(--jp-content-font-color1, white)));\n",
              "    --sklearn-color-icon: #878787;\n",
              "  }\n",
              "}\n",
              "\n",
              "#sk-container-id-3 {\n",
              "  color: var(--sklearn-color-text);\n",
              "}\n",
              "\n",
              "#sk-container-id-3 pre {\n",
              "  padding: 0;\n",
              "}\n",
              "\n",
              "#sk-container-id-3 input.sk-hidden--visually {\n",
              "  border: 0;\n",
              "  clip: rect(1px 1px 1px 1px);\n",
              "  clip: rect(1px, 1px, 1px, 1px);\n",
              "  height: 1px;\n",
              "  margin: -1px;\n",
              "  overflow: hidden;\n",
              "  padding: 0;\n",
              "  position: absolute;\n",
              "  width: 1px;\n",
              "}\n",
              "\n",
              "#sk-container-id-3 div.sk-dashed-wrapped {\n",
              "  border: 1px dashed var(--sklearn-color-line);\n",
              "  margin: 0 0.4em 0.5em 0.4em;\n",
              "  box-sizing: border-box;\n",
              "  padding-bottom: 0.4em;\n",
              "  background-color: var(--sklearn-color-background);\n",
              "}\n",
              "\n",
              "#sk-container-id-3 div.sk-container {\n",
              "  /* jupyter's `normalize.less` sets `[hidden] { display: none; }`\n",
              "     but bootstrap.min.css set `[hidden] { display: none !important; }`\n",
              "     so we also need the `!important` here to be able to override the\n",
              "     default hidden behavior on the sphinx rendered scikit-learn.org.\n",
              "     See: https://github.com/scikit-learn/scikit-learn/issues/21755 */\n",
              "  display: inline-block !important;\n",
              "  position: relative;\n",
              "}\n",
              "\n",
              "#sk-container-id-3 div.sk-text-repr-fallback {\n",
              "  display: none;\n",
              "}\n",
              "\n",
              "div.sk-parallel-item,\n",
              "div.sk-serial,\n",
              "div.sk-item {\n",
              "  /* draw centered vertical line to link estimators */\n",
              "  background-image: linear-gradient(var(--sklearn-color-text-on-default-background), var(--sklearn-color-text-on-default-background));\n",
              "  background-size: 2px 100%;\n",
              "  background-repeat: no-repeat;\n",
              "  background-position: center center;\n",
              "}\n",
              "\n",
              "/* Parallel-specific style estimator block */\n",
              "\n",
              "#sk-container-id-3 div.sk-parallel-item::after {\n",
              "  content: \"\";\n",
              "  width: 100%;\n",
              "  border-bottom: 2px solid var(--sklearn-color-text-on-default-background);\n",
              "  flex-grow: 1;\n",
              "}\n",
              "\n",
              "#sk-container-id-3 div.sk-parallel {\n",
              "  display: flex;\n",
              "  align-items: stretch;\n",
              "  justify-content: center;\n",
              "  background-color: var(--sklearn-color-background);\n",
              "  position: relative;\n",
              "}\n",
              "\n",
              "#sk-container-id-3 div.sk-parallel-item {\n",
              "  display: flex;\n",
              "  flex-direction: column;\n",
              "}\n",
              "\n",
              "#sk-container-id-3 div.sk-parallel-item:first-child::after {\n",
              "  align-self: flex-end;\n",
              "  width: 50%;\n",
              "}\n",
              "\n",
              "#sk-container-id-3 div.sk-parallel-item:last-child::after {\n",
              "  align-self: flex-start;\n",
              "  width: 50%;\n",
              "}\n",
              "\n",
              "#sk-container-id-3 div.sk-parallel-item:only-child::after {\n",
              "  width: 0;\n",
              "}\n",
              "\n",
              "/* Serial-specific style estimator block */\n",
              "\n",
              "#sk-container-id-3 div.sk-serial {\n",
              "  display: flex;\n",
              "  flex-direction: column;\n",
              "  align-items: center;\n",
              "  background-color: var(--sklearn-color-background);\n",
              "  padding-right: 1em;\n",
              "  padding-left: 1em;\n",
              "}\n",
              "\n",
              "\n",
              "/* Toggleable style: style used for estimator/Pipeline/ColumnTransformer box that is\n",
              "clickable and can be expanded/collapsed.\n",
              "- Pipeline and ColumnTransformer use this feature and define the default style\n",
              "- Estimators will overwrite some part of the style using the `sk-estimator` class\n",
              "*/\n",
              "\n",
              "/* Pipeline and ColumnTransformer style (default) */\n",
              "\n",
              "#sk-container-id-3 div.sk-toggleable {\n",
              "  /* Default theme specific background. It is overwritten whether we have a\n",
              "  specific estimator or a Pipeline/ColumnTransformer */\n",
              "  background-color: var(--sklearn-color-background);\n",
              "}\n",
              "\n",
              "/* Toggleable label */\n",
              "#sk-container-id-3 label.sk-toggleable__label {\n",
              "  cursor: pointer;\n",
              "  display: flex;\n",
              "  width: 100%;\n",
              "  margin-bottom: 0;\n",
              "  padding: 0.5em;\n",
              "  box-sizing: border-box;\n",
              "  text-align: center;\n",
              "  align-items: start;\n",
              "  justify-content: space-between;\n",
              "  gap: 0.5em;\n",
              "}\n",
              "\n",
              "#sk-container-id-3 label.sk-toggleable__label .caption {\n",
              "  font-size: 0.6rem;\n",
              "  font-weight: lighter;\n",
              "  color: var(--sklearn-color-text-muted);\n",
              "}\n",
              "\n",
              "#sk-container-id-3 label.sk-toggleable__label-arrow:before {\n",
              "  /* Arrow on the left of the label */\n",
              "  content: \"▸\";\n",
              "  float: left;\n",
              "  margin-right: 0.25em;\n",
              "  color: var(--sklearn-color-icon);\n",
              "}\n",
              "\n",
              "#sk-container-id-3 label.sk-toggleable__label-arrow:hover:before {\n",
              "  color: var(--sklearn-color-text);\n",
              "}\n",
              "\n",
              "/* Toggleable content - dropdown */\n",
              "\n",
              "#sk-container-id-3 div.sk-toggleable__content {\n",
              "  max-height: 0;\n",
              "  max-width: 0;\n",
              "  overflow: hidden;\n",
              "  text-align: left;\n",
              "  /* unfitted */\n",
              "  background-color: var(--sklearn-color-unfitted-level-0);\n",
              "}\n",
              "\n",
              "#sk-container-id-3 div.sk-toggleable__content.fitted {\n",
              "  /* fitted */\n",
              "  background-color: var(--sklearn-color-fitted-level-0);\n",
              "}\n",
              "\n",
              "#sk-container-id-3 div.sk-toggleable__content pre {\n",
              "  margin: 0.2em;\n",
              "  border-radius: 0.25em;\n",
              "  color: var(--sklearn-color-text);\n",
              "  /* unfitted */\n",
              "  background-color: var(--sklearn-color-unfitted-level-0);\n",
              "}\n",
              "\n",
              "#sk-container-id-3 div.sk-toggleable__content.fitted pre {\n",
              "  /* unfitted */\n",
              "  background-color: var(--sklearn-color-fitted-level-0);\n",
              "}\n",
              "\n",
              "#sk-container-id-3 input.sk-toggleable__control:checked~div.sk-toggleable__content {\n",
              "  /* Expand drop-down */\n",
              "  max-height: 200px;\n",
              "  max-width: 100%;\n",
              "  overflow: auto;\n",
              "}\n",
              "\n",
              "#sk-container-id-3 input.sk-toggleable__control:checked~label.sk-toggleable__label-arrow:before {\n",
              "  content: \"▾\";\n",
              "}\n",
              "\n",
              "/* Pipeline/ColumnTransformer-specific style */\n",
              "\n",
              "#sk-container-id-3 div.sk-label input.sk-toggleable__control:checked~label.sk-toggleable__label {\n",
              "  color: var(--sklearn-color-text);\n",
              "  background-color: var(--sklearn-color-unfitted-level-2);\n",
              "}\n",
              "\n",
              "#sk-container-id-3 div.sk-label.fitted input.sk-toggleable__control:checked~label.sk-toggleable__label {\n",
              "  background-color: var(--sklearn-color-fitted-level-2);\n",
              "}\n",
              "\n",
              "/* Estimator-specific style */\n",
              "\n",
              "/* Colorize estimator box */\n",
              "#sk-container-id-3 div.sk-estimator input.sk-toggleable__control:checked~label.sk-toggleable__label {\n",
              "  /* unfitted */\n",
              "  background-color: var(--sklearn-color-unfitted-level-2);\n",
              "}\n",
              "\n",
              "#sk-container-id-3 div.sk-estimator.fitted input.sk-toggleable__control:checked~label.sk-toggleable__label {\n",
              "  /* fitted */\n",
              "  background-color: var(--sklearn-color-fitted-level-2);\n",
              "}\n",
              "\n",
              "#sk-container-id-3 div.sk-label label.sk-toggleable__label,\n",
              "#sk-container-id-3 div.sk-label label {\n",
              "  /* The background is the default theme color */\n",
              "  color: var(--sklearn-color-text-on-default-background);\n",
              "}\n",
              "\n",
              "/* On hover, darken the color of the background */\n",
              "#sk-container-id-3 div.sk-label:hover label.sk-toggleable__label {\n",
              "  color: var(--sklearn-color-text);\n",
              "  background-color: var(--sklearn-color-unfitted-level-2);\n",
              "}\n",
              "\n",
              "/* Label box, darken color on hover, fitted */\n",
              "#sk-container-id-3 div.sk-label.fitted:hover label.sk-toggleable__label.fitted {\n",
              "  color: var(--sklearn-color-text);\n",
              "  background-color: var(--sklearn-color-fitted-level-2);\n",
              "}\n",
              "\n",
              "/* Estimator label */\n",
              "\n",
              "#sk-container-id-3 div.sk-label label {\n",
              "  font-family: monospace;\n",
              "  font-weight: bold;\n",
              "  display: inline-block;\n",
              "  line-height: 1.2em;\n",
              "}\n",
              "\n",
              "#sk-container-id-3 div.sk-label-container {\n",
              "  text-align: center;\n",
              "}\n",
              "\n",
              "/* Estimator-specific */\n",
              "#sk-container-id-3 div.sk-estimator {\n",
              "  font-family: monospace;\n",
              "  border: 1px dotted var(--sklearn-color-border-box);\n",
              "  border-radius: 0.25em;\n",
              "  box-sizing: border-box;\n",
              "  margin-bottom: 0.5em;\n",
              "  /* unfitted */\n",
              "  background-color: var(--sklearn-color-unfitted-level-0);\n",
              "}\n",
              "\n",
              "#sk-container-id-3 div.sk-estimator.fitted {\n",
              "  /* fitted */\n",
              "  background-color: var(--sklearn-color-fitted-level-0);\n",
              "}\n",
              "\n",
              "/* on hover */\n",
              "#sk-container-id-3 div.sk-estimator:hover {\n",
              "  /* unfitted */\n",
              "  background-color: var(--sklearn-color-unfitted-level-2);\n",
              "}\n",
              "\n",
              "#sk-container-id-3 div.sk-estimator.fitted:hover {\n",
              "  /* fitted */\n",
              "  background-color: var(--sklearn-color-fitted-level-2);\n",
              "}\n",
              "\n",
              "/* Specification for estimator info (e.g. \"i\" and \"?\") */\n",
              "\n",
              "/* Common style for \"i\" and \"?\" */\n",
              "\n",
              ".sk-estimator-doc-link,\n",
              "a:link.sk-estimator-doc-link,\n",
              "a:visited.sk-estimator-doc-link {\n",
              "  float: right;\n",
              "  font-size: smaller;\n",
              "  line-height: 1em;\n",
              "  font-family: monospace;\n",
              "  background-color: var(--sklearn-color-background);\n",
              "  border-radius: 1em;\n",
              "  height: 1em;\n",
              "  width: 1em;\n",
              "  text-decoration: none !important;\n",
              "  margin-left: 0.5em;\n",
              "  text-align: center;\n",
              "  /* unfitted */\n",
              "  border: var(--sklearn-color-unfitted-level-1) 1pt solid;\n",
              "  color: var(--sklearn-color-unfitted-level-1);\n",
              "}\n",
              "\n",
              ".sk-estimator-doc-link.fitted,\n",
              "a:link.sk-estimator-doc-link.fitted,\n",
              "a:visited.sk-estimator-doc-link.fitted {\n",
              "  /* fitted */\n",
              "  border: var(--sklearn-color-fitted-level-1) 1pt solid;\n",
              "  color: var(--sklearn-color-fitted-level-1);\n",
              "}\n",
              "\n",
              "/* On hover */\n",
              "div.sk-estimator:hover .sk-estimator-doc-link:hover,\n",
              ".sk-estimator-doc-link:hover,\n",
              "div.sk-label-container:hover .sk-estimator-doc-link:hover,\n",
              ".sk-estimator-doc-link:hover {\n",
              "  /* unfitted */\n",
              "  background-color: var(--sklearn-color-unfitted-level-3);\n",
              "  color: var(--sklearn-color-background);\n",
              "  text-decoration: none;\n",
              "}\n",
              "\n",
              "div.sk-estimator.fitted:hover .sk-estimator-doc-link.fitted:hover,\n",
              ".sk-estimator-doc-link.fitted:hover,\n",
              "div.sk-label-container:hover .sk-estimator-doc-link.fitted:hover,\n",
              ".sk-estimator-doc-link.fitted:hover {\n",
              "  /* fitted */\n",
              "  background-color: var(--sklearn-color-fitted-level-3);\n",
              "  color: var(--sklearn-color-background);\n",
              "  text-decoration: none;\n",
              "}\n",
              "\n",
              "/* Span, style for the box shown on hovering the info icon */\n",
              ".sk-estimator-doc-link span {\n",
              "  display: none;\n",
              "  z-index: 9999;\n",
              "  position: relative;\n",
              "  font-weight: normal;\n",
              "  right: .2ex;\n",
              "  padding: .5ex;\n",
              "  margin: .5ex;\n",
              "  width: min-content;\n",
              "  min-width: 20ex;\n",
              "  max-width: 50ex;\n",
              "  color: var(--sklearn-color-text);\n",
              "  box-shadow: 2pt 2pt 4pt #999;\n",
              "  /* unfitted */\n",
              "  background: var(--sklearn-color-unfitted-level-0);\n",
              "  border: .5pt solid var(--sklearn-color-unfitted-level-3);\n",
              "}\n",
              "\n",
              ".sk-estimator-doc-link.fitted span {\n",
              "  /* fitted */\n",
              "  background: var(--sklearn-color-fitted-level-0);\n",
              "  border: var(--sklearn-color-fitted-level-3);\n",
              "}\n",
              "\n",
              ".sk-estimator-doc-link:hover span {\n",
              "  display: block;\n",
              "}\n",
              "\n",
              "/* \"?\"-specific style due to the `<a>` HTML tag */\n",
              "\n",
              "#sk-container-id-3 a.estimator_doc_link {\n",
              "  float: right;\n",
              "  font-size: 1rem;\n",
              "  line-height: 1em;\n",
              "  font-family: monospace;\n",
              "  background-color: var(--sklearn-color-background);\n",
              "  border-radius: 1rem;\n",
              "  height: 1rem;\n",
              "  width: 1rem;\n",
              "  text-decoration: none;\n",
              "  /* unfitted */\n",
              "  color: var(--sklearn-color-unfitted-level-1);\n",
              "  border: var(--sklearn-color-unfitted-level-1) 1pt solid;\n",
              "}\n",
              "\n",
              "#sk-container-id-3 a.estimator_doc_link.fitted {\n",
              "  /* fitted */\n",
              "  border: var(--sklearn-color-fitted-level-1) 1pt solid;\n",
              "  color: var(--sklearn-color-fitted-level-1);\n",
              "}\n",
              "\n",
              "/* On hover */\n",
              "#sk-container-id-3 a.estimator_doc_link:hover {\n",
              "  /* unfitted */\n",
              "  background-color: var(--sklearn-color-unfitted-level-3);\n",
              "  color: var(--sklearn-color-background);\n",
              "  text-decoration: none;\n",
              "}\n",
              "\n",
              "#sk-container-id-3 a.estimator_doc_link.fitted:hover {\n",
              "  /* fitted */\n",
              "  background-color: var(--sklearn-color-fitted-level-3);\n",
              "}\n",
              "</style><div id=\"sk-container-id-3\" class=\"sk-top-container\"><div class=\"sk-text-repr-fallback\"><pre>OneVsRestClassifier(estimator=SVC(random_state=42))</pre><b>In a Jupyter environment, please rerun this cell to show the HTML representation or trust the notebook. <br />On GitHub, the HTML representation is unable to render, please try loading this page with nbviewer.org.</b></div><div class=\"sk-container\" hidden><div class=\"sk-item sk-dashed-wrapped\"><div class=\"sk-label-container\"><div class=\"sk-label fitted sk-toggleable\"><input class=\"sk-toggleable__control sk-hidden--visually\" id=\"sk-estimator-id-3\" type=\"checkbox\" ><label for=\"sk-estimator-id-3\" class=\"sk-toggleable__label fitted sk-toggleable__label-arrow\"><div><div>OneVsRestClassifier</div></div><div><a class=\"sk-estimator-doc-link fitted\" rel=\"noreferrer\" target=\"_blank\" href=\"https://scikit-learn.org/1.6/modules/generated/sklearn.multiclass.OneVsRestClassifier.html\">?<span>Documentation for OneVsRestClassifier</span></a><span class=\"sk-estimator-doc-link fitted\">i<span>Fitted</span></span></div></label><div class=\"sk-toggleable__content fitted\"><pre>OneVsRestClassifier(estimator=SVC(random_state=42))</pre></div> </div></div><div class=\"sk-parallel\"><div class=\"sk-parallel-item\"><div class=\"sk-item\"><div class=\"sk-label-container\"><div class=\"sk-label fitted sk-toggleable\"><input class=\"sk-toggleable__control sk-hidden--visually\" id=\"sk-estimator-id-4\" type=\"checkbox\" ><label for=\"sk-estimator-id-4\" class=\"sk-toggleable__label fitted sk-toggleable__label-arrow\"><div><div>estimator: SVC</div></div></label><div class=\"sk-toggleable__content fitted\"><pre>SVC(random_state=42)</pre></div> </div></div><div class=\"sk-serial\"><div class=\"sk-item\"><div class=\"sk-estimator fitted sk-toggleable\"><input class=\"sk-toggleable__control sk-hidden--visually\" id=\"sk-estimator-id-5\" type=\"checkbox\" ><label for=\"sk-estimator-id-5\" class=\"sk-toggleable__label fitted sk-toggleable__label-arrow\"><div><div>SVC</div></div><div><a class=\"sk-estimator-doc-link fitted\" rel=\"noreferrer\" target=\"_blank\" href=\"https://scikit-learn.org/1.6/modules/generated/sklearn.svm.SVC.html\">?<span>Documentation for SVC</span></a></div></label><div class=\"sk-toggleable__content fitted\"><pre>SVC(random_state=42)</pre></div> </div></div></div></div></div></div></div></div></div>"
            ]
          },
          "metadata": {},
          "execution_count": 68
        }
      ]
    },
    {
      "cell_type": "code",
      "source": [
        "# Use the trained OneVsRestClassifier to predict the digit of the first sample\n",
        "ovr_clf.predict([some_digit])"
      ],
      "metadata": {
        "colab": {
          "base_uri": "https://localhost:8080/"
        },
        "id": "PoaImp8wED1l",
        "outputId": "287eace2-50cd-476e-8904-4db7c70e40e7"
      },
      "execution_count": 69,
      "outputs": [
        {
          "output_type": "execute_result",
          "data": {
            "text/plain": [
              "array(['5'], dtype='<U1')"
            ]
          },
          "metadata": {},
          "execution_count": 69
        }
      ]
    },
    {
      "cell_type": "code",
      "source": [
        "# Get the number of estimators (classifiers) in the OneVsRestClassifier\n",
        "len(ovr_clf.estimators_)"
      ],
      "metadata": {
        "colab": {
          "base_uri": "https://localhost:8080/"
        },
        "id": "IOurMvTxEGD5",
        "outputId": "32ed684f-6bd3-46ef-cd78-068ee9893ee8"
      },
      "execution_count": 70,
      "outputs": [
        {
          "output_type": "execute_result",
          "data": {
            "text/plain": [
              "10"
            ]
          },
          "metadata": {},
          "execution_count": 70
        }
      ]
    },
    {
      "cell_type": "code",
      "source": [
        "# Create an SGDClassifier instance with a random state for reproducibility\n",
        "sgd_clf = SGDClassifier(random_state=42)\n",
        "# Train the SGDClassifier on the entire training data\n",
        "sgd_clf.fit(X_train, y_train)"
      ],
      "metadata": {
        "colab": {
          "base_uri": "https://localhost:8080/",
          "height": 80
        },
        "id": "lydiTOdIEIAw",
        "outputId": "0a5a179e-a761-40d7-b0ca-4964bcdf8322"
      },
      "execution_count": 71,
      "outputs": [
        {
          "output_type": "execute_result",
          "data": {
            "text/plain": [
              "SGDClassifier(random_state=42)"
            ],
            "text/html": [
              "<style>#sk-container-id-4 {\n",
              "  /* Definition of color scheme common for light and dark mode */\n",
              "  --sklearn-color-text: #000;\n",
              "  --sklearn-color-text-muted: #666;\n",
              "  --sklearn-color-line: gray;\n",
              "  /* Definition of color scheme for unfitted estimators */\n",
              "  --sklearn-color-unfitted-level-0: #fff5e6;\n",
              "  --sklearn-color-unfitted-level-1: #f6e4d2;\n",
              "  --sklearn-color-unfitted-level-2: #ffe0b3;\n",
              "  --sklearn-color-unfitted-level-3: chocolate;\n",
              "  /* Definition of color scheme for fitted estimators */\n",
              "  --sklearn-color-fitted-level-0: #f0f8ff;\n",
              "  --sklearn-color-fitted-level-1: #d4ebff;\n",
              "  --sklearn-color-fitted-level-2: #b3dbfd;\n",
              "  --sklearn-color-fitted-level-3: cornflowerblue;\n",
              "\n",
              "  /* Specific color for light theme */\n",
              "  --sklearn-color-text-on-default-background: var(--sg-text-color, var(--theme-code-foreground, var(--jp-content-font-color1, black)));\n",
              "  --sklearn-color-background: var(--sg-background-color, var(--theme-background, var(--jp-layout-color0, white)));\n",
              "  --sklearn-color-border-box: var(--sg-text-color, var(--theme-code-foreground, var(--jp-content-font-color1, black)));\n",
              "  --sklearn-color-icon: #696969;\n",
              "\n",
              "  @media (prefers-color-scheme: dark) {\n",
              "    /* Redefinition of color scheme for dark theme */\n",
              "    --sklearn-color-text-on-default-background: var(--sg-text-color, var(--theme-code-foreground, var(--jp-content-font-color1, white)));\n",
              "    --sklearn-color-background: var(--sg-background-color, var(--theme-background, var(--jp-layout-color0, #111)));\n",
              "    --sklearn-color-border-box: var(--sg-text-color, var(--theme-code-foreground, var(--jp-content-font-color1, white)));\n",
              "    --sklearn-color-icon: #878787;\n",
              "  }\n",
              "}\n",
              "\n",
              "#sk-container-id-4 {\n",
              "  color: var(--sklearn-color-text);\n",
              "}\n",
              "\n",
              "#sk-container-id-4 pre {\n",
              "  padding: 0;\n",
              "}\n",
              "\n",
              "#sk-container-id-4 input.sk-hidden--visually {\n",
              "  border: 0;\n",
              "  clip: rect(1px 1px 1px 1px);\n",
              "  clip: rect(1px, 1px, 1px, 1px);\n",
              "  height: 1px;\n",
              "  margin: -1px;\n",
              "  overflow: hidden;\n",
              "  padding: 0;\n",
              "  position: absolute;\n",
              "  width: 1px;\n",
              "}\n",
              "\n",
              "#sk-container-id-4 div.sk-dashed-wrapped {\n",
              "  border: 1px dashed var(--sklearn-color-line);\n",
              "  margin: 0 0.4em 0.5em 0.4em;\n",
              "  box-sizing: border-box;\n",
              "  padding-bottom: 0.4em;\n",
              "  background-color: var(--sklearn-color-background);\n",
              "}\n",
              "\n",
              "#sk-container-id-4 div.sk-container {\n",
              "  /* jupyter's `normalize.less` sets `[hidden] { display: none; }`\n",
              "     but bootstrap.min.css set `[hidden] { display: none !important; }`\n",
              "     so we also need the `!important` here to be able to override the\n",
              "     default hidden behavior on the sphinx rendered scikit-learn.org.\n",
              "     See: https://github.com/scikit-learn/scikit-learn/issues/21755 */\n",
              "  display: inline-block !important;\n",
              "  position: relative;\n",
              "}\n",
              "\n",
              "#sk-container-id-4 div.sk-text-repr-fallback {\n",
              "  display: none;\n",
              "}\n",
              "\n",
              "div.sk-parallel-item,\n",
              "div.sk-serial,\n",
              "div.sk-item {\n",
              "  /* draw centered vertical line to link estimators */\n",
              "  background-image: linear-gradient(var(--sklearn-color-text-on-default-background), var(--sklearn-color-text-on-default-background));\n",
              "  background-size: 2px 100%;\n",
              "  background-repeat: no-repeat;\n",
              "  background-position: center center;\n",
              "}\n",
              "\n",
              "/* Parallel-specific style estimator block */\n",
              "\n",
              "#sk-container-id-4 div.sk-parallel-item::after {\n",
              "  content: \"\";\n",
              "  width: 100%;\n",
              "  border-bottom: 2px solid var(--sklearn-color-text-on-default-background);\n",
              "  flex-grow: 1;\n",
              "}\n",
              "\n",
              "#sk-container-id-4 div.sk-parallel {\n",
              "  display: flex;\n",
              "  align-items: stretch;\n",
              "  justify-content: center;\n",
              "  background-color: var(--sklearn-color-background);\n",
              "  position: relative;\n",
              "}\n",
              "\n",
              "#sk-container-id-4 div.sk-parallel-item {\n",
              "  display: flex;\n",
              "  flex-direction: column;\n",
              "}\n",
              "\n",
              "#sk-container-id-4 div.sk-parallel-item:first-child::after {\n",
              "  align-self: flex-end;\n",
              "  width: 50%;\n",
              "}\n",
              "\n",
              "#sk-container-id-4 div.sk-parallel-item:last-child::after {\n",
              "  align-self: flex-start;\n",
              "  width: 50%;\n",
              "}\n",
              "\n",
              "#sk-container-id-4 div.sk-parallel-item:only-child::after {\n",
              "  width: 0;\n",
              "}\n",
              "\n",
              "/* Serial-specific style estimator block */\n",
              "\n",
              "#sk-container-id-4 div.sk-serial {\n",
              "  display: flex;\n",
              "  flex-direction: column;\n",
              "  align-items: center;\n",
              "  background-color: var(--sklearn-color-background);\n",
              "  padding-right: 1em;\n",
              "  padding-left: 1em;\n",
              "}\n",
              "\n",
              "\n",
              "/* Toggleable style: style used for estimator/Pipeline/ColumnTransformer box that is\n",
              "clickable and can be expanded/collapsed.\n",
              "- Pipeline and ColumnTransformer use this feature and define the default style\n",
              "- Estimators will overwrite some part of the style using the `sk-estimator` class\n",
              "*/\n",
              "\n",
              "/* Pipeline and ColumnTransformer style (default) */\n",
              "\n",
              "#sk-container-id-4 div.sk-toggleable {\n",
              "  /* Default theme specific background. It is overwritten whether we have a\n",
              "  specific estimator or a Pipeline/ColumnTransformer */\n",
              "  background-color: var(--sklearn-color-background);\n",
              "}\n",
              "\n",
              "/* Toggleable label */\n",
              "#sk-container-id-4 label.sk-toggleable__label {\n",
              "  cursor: pointer;\n",
              "  display: flex;\n",
              "  width: 100%;\n",
              "  margin-bottom: 0;\n",
              "  padding: 0.5em;\n",
              "  box-sizing: border-box;\n",
              "  text-align: center;\n",
              "  align-items: start;\n",
              "  justify-content: space-between;\n",
              "  gap: 0.5em;\n",
              "}\n",
              "\n",
              "#sk-container-id-4 label.sk-toggleable__label .caption {\n",
              "  font-size: 0.6rem;\n",
              "  font-weight: lighter;\n",
              "  color: var(--sklearn-color-text-muted);\n",
              "}\n",
              "\n",
              "#sk-container-id-4 label.sk-toggleable__label-arrow:before {\n",
              "  /* Arrow on the left of the label */\n",
              "  content: \"▸\";\n",
              "  float: left;\n",
              "  margin-right: 0.25em;\n",
              "  color: var(--sklearn-color-icon);\n",
              "}\n",
              "\n",
              "#sk-container-id-4 label.sk-toggleable__label-arrow:hover:before {\n",
              "  color: var(--sklearn-color-text);\n",
              "}\n",
              "\n",
              "/* Toggleable content - dropdown */\n",
              "\n",
              "#sk-container-id-4 div.sk-toggleable__content {\n",
              "  max-height: 0;\n",
              "  max-width: 0;\n",
              "  overflow: hidden;\n",
              "  text-align: left;\n",
              "  /* unfitted */\n",
              "  background-color: var(--sklearn-color-unfitted-level-0);\n",
              "}\n",
              "\n",
              "#sk-container-id-4 div.sk-toggleable__content.fitted {\n",
              "  /* fitted */\n",
              "  background-color: var(--sklearn-color-fitted-level-0);\n",
              "}\n",
              "\n",
              "#sk-container-id-4 div.sk-toggleable__content pre {\n",
              "  margin: 0.2em;\n",
              "  border-radius: 0.25em;\n",
              "  color: var(--sklearn-color-text);\n",
              "  /* unfitted */\n",
              "  background-color: var(--sklearn-color-unfitted-level-0);\n",
              "}\n",
              "\n",
              "#sk-container-id-4 div.sk-toggleable__content.fitted pre {\n",
              "  /* unfitted */\n",
              "  background-color: var(--sklearn-color-fitted-level-0);\n",
              "}\n",
              "\n",
              "#sk-container-id-4 input.sk-toggleable__control:checked~div.sk-toggleable__content {\n",
              "  /* Expand drop-down */\n",
              "  max-height: 200px;\n",
              "  max-width: 100%;\n",
              "  overflow: auto;\n",
              "}\n",
              "\n",
              "#sk-container-id-4 input.sk-toggleable__control:checked~label.sk-toggleable__label-arrow:before {\n",
              "  content: \"▾\";\n",
              "}\n",
              "\n",
              "/* Pipeline/ColumnTransformer-specific style */\n",
              "\n",
              "#sk-container-id-4 div.sk-label input.sk-toggleable__control:checked~label.sk-toggleable__label {\n",
              "  color: var(--sklearn-color-text);\n",
              "  background-color: var(--sklearn-color-unfitted-level-2);\n",
              "}\n",
              "\n",
              "#sk-container-id-4 div.sk-label.fitted input.sk-toggleable__control:checked~label.sk-toggleable__label {\n",
              "  background-color: var(--sklearn-color-fitted-level-2);\n",
              "}\n",
              "\n",
              "/* Estimator-specific style */\n",
              "\n",
              "/* Colorize estimator box */\n",
              "#sk-container-id-4 div.sk-estimator input.sk-toggleable__control:checked~label.sk-toggleable__label {\n",
              "  /* unfitted */\n",
              "  background-color: var(--sklearn-color-unfitted-level-2);\n",
              "}\n",
              "\n",
              "#sk-container-id-4 div.sk-estimator.fitted input.sk-toggleable__control:checked~label.sk-toggleable__label {\n",
              "  /* fitted */\n",
              "  background-color: var(--sklearn-color-fitted-level-2);\n",
              "}\n",
              "\n",
              "#sk-container-id-4 div.sk-label label.sk-toggleable__label,\n",
              "#sk-container-id-4 div.sk-label label {\n",
              "  /* The background is the default theme color */\n",
              "  color: var(--sklearn-color-text-on-default-background);\n",
              "}\n",
              "\n",
              "/* On hover, darken the color of the background */\n",
              "#sk-container-id-4 div.sk-label:hover label.sk-toggleable__label {\n",
              "  color: var(--sklearn-color-text);\n",
              "  background-color: var(--sklearn-color-unfitted-level-2);\n",
              "}\n",
              "\n",
              "/* Label box, darken color on hover, fitted */\n",
              "#sk-container-id-4 div.sk-label.fitted:hover label.sk-toggleable__label.fitted {\n",
              "  color: var(--sklearn-color-text);\n",
              "  background-color: var(--sklearn-color-fitted-level-2);\n",
              "}\n",
              "\n",
              "/* Estimator label */\n",
              "\n",
              "#sk-container-id-4 div.sk-label label {\n",
              "  font-family: monospace;\n",
              "  font-weight: bold;\n",
              "  display: inline-block;\n",
              "  line-height: 1.2em;\n",
              "}\n",
              "\n",
              "#sk-container-id-4 div.sk-label-container {\n",
              "  text-align: center;\n",
              "}\n",
              "\n",
              "/* Estimator-specific */\n",
              "#sk-container-id-4 div.sk-estimator {\n",
              "  font-family: monospace;\n",
              "  border: 1px dotted var(--sklearn-color-border-box);\n",
              "  border-radius: 0.25em;\n",
              "  box-sizing: border-box;\n",
              "  margin-bottom: 0.5em;\n",
              "  /* unfitted */\n",
              "  background-color: var(--sklearn-color-unfitted-level-0);\n",
              "}\n",
              "\n",
              "#sk-container-id-4 div.sk-estimator.fitted {\n",
              "  /* fitted */\n",
              "  background-color: var(--sklearn-color-fitted-level-0);\n",
              "}\n",
              "\n",
              "/* on hover */\n",
              "#sk-container-id-4 div.sk-estimator:hover {\n",
              "  /* unfitted */\n",
              "  background-color: var(--sklearn-color-unfitted-level-2);\n",
              "}\n",
              "\n",
              "#sk-container-id-4 div.sk-estimator.fitted:hover {\n",
              "  /* fitted */\n",
              "  background-color: var(--sklearn-color-fitted-level-2);\n",
              "}\n",
              "\n",
              "/* Specification for estimator info (e.g. \"i\" and \"?\") */\n",
              "\n",
              "/* Common style for \"i\" and \"?\" */\n",
              "\n",
              ".sk-estimator-doc-link,\n",
              "a:link.sk-estimator-doc-link,\n",
              "a:visited.sk-estimator-doc-link {\n",
              "  float: right;\n",
              "  font-size: smaller;\n",
              "  line-height: 1em;\n",
              "  font-family: monospace;\n",
              "  background-color: var(--sklearn-color-background);\n",
              "  border-radius: 1em;\n",
              "  height: 1em;\n",
              "  width: 1em;\n",
              "  text-decoration: none !important;\n",
              "  margin-left: 0.5em;\n",
              "  text-align: center;\n",
              "  /* unfitted */\n",
              "  border: var(--sklearn-color-unfitted-level-1) 1pt solid;\n",
              "  color: var(--sklearn-color-unfitted-level-1);\n",
              "}\n",
              "\n",
              ".sk-estimator-doc-link.fitted,\n",
              "a:link.sk-estimator-doc-link.fitted,\n",
              "a:visited.sk-estimator-doc-link.fitted {\n",
              "  /* fitted */\n",
              "  border: var(--sklearn-color-fitted-level-1) 1pt solid;\n",
              "  color: var(--sklearn-color-fitted-level-1);\n",
              "}\n",
              "\n",
              "/* On hover */\n",
              "div.sk-estimator:hover .sk-estimator-doc-link:hover,\n",
              ".sk-estimator-doc-link:hover,\n",
              "div.sk-label-container:hover .sk-estimator-doc-link:hover,\n",
              ".sk-estimator-doc-link:hover {\n",
              "  /* unfitted */\n",
              "  background-color: var(--sklearn-color-unfitted-level-3);\n",
              "  color: var(--sklearn-color-background);\n",
              "  text-decoration: none;\n",
              "}\n",
              "\n",
              "div.sk-estimator.fitted:hover .sk-estimator-doc-link.fitted:hover,\n",
              ".sk-estimator-doc-link.fitted:hover,\n",
              "div.sk-label-container:hover .sk-estimator-doc-link.fitted:hover,\n",
              ".sk-estimator-doc-link.fitted:hover {\n",
              "  /* fitted */\n",
              "  background-color: var(--sklearn-color-fitted-level-3);\n",
              "  color: var(--sklearn-color-background);\n",
              "  text-decoration: none;\n",
              "}\n",
              "\n",
              "/* Span, style for the box shown on hovering the info icon */\n",
              ".sk-estimator-doc-link span {\n",
              "  display: none;\n",
              "  z-index: 9999;\n",
              "  position: relative;\n",
              "  font-weight: normal;\n",
              "  right: .2ex;\n",
              "  padding: .5ex;\n",
              "  margin: .5ex;\n",
              "  width: min-content;\n",
              "  min-width: 20ex;\n",
              "  max-width: 50ex;\n",
              "  color: var(--sklearn-color-text);\n",
              "  box-shadow: 2pt 2pt 4pt #999;\n",
              "  /* unfitted */\n",
              "  background: var(--sklearn-color-unfitted-level-0);\n",
              "  border: .5pt solid var(--sklearn-color-unfitted-level-3);\n",
              "}\n",
              "\n",
              ".sk-estimator-doc-link.fitted span {\n",
              "  /* fitted */\n",
              "  background: var(--sklearn-color-fitted-level-0);\n",
              "  border: var(--sklearn-color-fitted-level-3);\n",
              "}\n",
              "\n",
              ".sk-estimator-doc-link:hover span {\n",
              "  display: block;\n",
              "}\n",
              "\n",
              "/* \"?\"-specific style due to the `<a>` HTML tag */\n",
              "\n",
              "#sk-container-id-4 a.estimator_doc_link {\n",
              "  float: right;\n",
              "  font-size: 1rem;\n",
              "  line-height: 1em;\n",
              "  font-family: monospace;\n",
              "  background-color: var(--sklearn-color-background);\n",
              "  border-radius: 1rem;\n",
              "  height: 1rem;\n",
              "  width: 1rem;\n",
              "  text-decoration: none;\n",
              "  /* unfitted */\n",
              "  color: var(--sklearn-color-unfitted-level-1);\n",
              "  border: var(--sklearn-color-unfitted-level-1) 1pt solid;\n",
              "}\n",
              "\n",
              "#sk-container-id-4 a.estimator_doc_link.fitted {\n",
              "  /* fitted */\n",
              "  border: var(--sklearn-color-fitted-level-1) 1pt solid;\n",
              "  color: var(--sklearn-color-fitted-level-1);\n",
              "}\n",
              "\n",
              "/* On hover */\n",
              "#sk-container-id-4 a.estimator_doc_link:hover {\n",
              "  /* unfitted */\n",
              "  background-color: var(--sklearn-color-unfitted-level-3);\n",
              "  color: var(--sklearn-color-background);\n",
              "  text-decoration: none;\n",
              "}\n",
              "\n",
              "#sk-container-id-4 a.estimator_doc_link.fitted:hover {\n",
              "  /* fitted */\n",
              "  background-color: var(--sklearn-color-fitted-level-3);\n",
              "}\n",
              "</style><div id=\"sk-container-id-4\" class=\"sk-top-container\"><div class=\"sk-text-repr-fallback\"><pre>SGDClassifier(random_state=42)</pre><b>In a Jupyter environment, please rerun this cell to show the HTML representation or trust the notebook. <br />On GitHub, the HTML representation is unable to render, please try loading this page with nbviewer.org.</b></div><div class=\"sk-container\" hidden><div class=\"sk-item\"><div class=\"sk-estimator fitted sk-toggleable\"><input class=\"sk-toggleable__control sk-hidden--visually\" id=\"sk-estimator-id-6\" type=\"checkbox\" checked><label for=\"sk-estimator-id-6\" class=\"sk-toggleable__label fitted sk-toggleable__label-arrow\"><div><div>SGDClassifier</div></div><div><a class=\"sk-estimator-doc-link fitted\" rel=\"noreferrer\" target=\"_blank\" href=\"https://scikit-learn.org/1.6/modules/generated/sklearn.linear_model.SGDClassifier.html\">?<span>Documentation for SGDClassifier</span></a><span class=\"sk-estimator-doc-link fitted\">i<span>Fitted</span></span></div></label><div class=\"sk-toggleable__content fitted\"><pre>SGDClassifier(random_state=42)</pre></div> </div></div></div></div>"
            ]
          },
          "metadata": {},
          "execution_count": 71
        }
      ]
    },
    {
      "cell_type": "code",
      "source": [
        "# Use the trained SGDClassifier to predict the digit of the first sample\n",
        "sgd_clf.predict([some_digit])"
      ],
      "metadata": {
        "colab": {
          "base_uri": "https://localhost:8080/"
        },
        "id": "nWiLQ5aUEQA5",
        "outputId": "dad840c6-08c0-4cfe-eb4d-45b76aa950d1"
      },
      "execution_count": 72,
      "outputs": [
        {
          "output_type": "execute_result",
          "data": {
            "text/plain": [
              "array(['3'], dtype='<U1')"
            ]
          },
          "metadata": {},
          "execution_count": 72
        }
      ]
    },
    {
      "cell_type": "code",
      "source": [
        "# Get the decision function scores for the first digit using the trained SGDClassifier\n",
        "# Round the scores to the nearest integer\n",
        "sgd_clf.decision_function([some_digit]).round()"
      ],
      "metadata": {
        "colab": {
          "base_uri": "https://localhost:8080/"
        },
        "id": "4KTWxtczEVlx",
        "outputId": "487865e3-84b1-4f2c-fa79-342c919e34ce"
      },
      "execution_count": 73,
      "outputs": [
        {
          "output_type": "execute_result",
          "data": {
            "text/plain": [
              "array([[-31893., -34420.,  -9531.,   1824., -22320.,  -1386., -26189.,\n",
              "        -16148.,  -4604., -12051.]])"
            ]
          },
          "metadata": {},
          "execution_count": 73
        }
      ]
    },
    {
      "cell_type": "code",
      "source": [
        "# Perform cross-validation with 3 folds to evaluate the accuracy of the SGDClassifier\n",
        "cross_val_score(sgd_clf, X_train, y_train, cv=3, scoring=\"accuracy\")"
      ],
      "metadata": {
        "colab": {
          "base_uri": "https://localhost:8080/"
        },
        "id": "U_6cY-qpEcNY",
        "outputId": "4808a64d-83d2-4cdd-b141-fc267380ccbe"
      },
      "execution_count": 74,
      "outputs": [
        {
          "output_type": "execute_result",
          "data": {
            "text/plain": [
              "array([0.87365, 0.85835, 0.8689 ])"
            ]
          },
          "metadata": {},
          "execution_count": 74
        }
      ]
    },
    {
      "cell_type": "code",
      "source": [
        "# Import the StandardScaler for feature scaling\n",
        "from sklearn.preprocessing import StandardScaler\n",
        "# Create a StandardScaler instance\n",
        "scaler = StandardScaler()\n",
        "# Import numpy for numerical operations\n",
        "import numpy as np\n",
        "# Scale the training data\n",
        "X_train_scaled = scaler.fit_transform(X_train.astype(np.float64))"
      ],
      "metadata": {
        "id": "62xVK4J_EfHw"
      },
      "execution_count": 76,
      "outputs": []
    },
    {
      "cell_type": "code",
      "source": [
        "# Perform cross-validation with 3 folds to evaluate the accuracy of the SGDClassifier on scaled training data\n",
        " cross_val_score(sgd_clf, X_train_scaled, y_train, cv=3, scoring=\"accuracy\")"
      ],
      "metadata": {
        "id": "WDB7LgvQEphm"
      },
      "execution_count": 79,
      "outputs": []
    }
  ]
}